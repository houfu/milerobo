{
 "cells": [
  {
   "cell_type": "markdown",
   "source": [
    "# Milerobo!\n",
    "\n",
    "This notebook demonstrates how to perform Question and Answering over sources.\n",
    "\n",
    "Once you have scraped enough articles and created a vector store, run the QA on questions and compare ChatGPT's response and your own, while reading what a human expert thinks of ChatGPT.\n",
    "\n",
    "Source for ChatGPT responses and human expert evaluation: [milelion.com](https://milelion.com/2023/02/11/can-chatgpt-handle-miles-and-points-questions/)\n",
    "\n",
    "_This notebook and the code in the repository is a toy and is for my education and demonstration purposes only. If you run the code, you are solely liable for running the code and its consequences. The answers provided by the model is provided on an \"AS IS\" basis only._\n",
    "\n",
    "In order to use this notebook, you need to\n",
    "* set your OpenAI key and other variables as an environment variable.\n",
    "* Run the scraping code and save it in weaviate, a vector db.\n",
    "\n",
    "## Changes in v2\n",
    "1. Chunks are now smaller -- from 900 to 300 (ie. 3 time as many)\n",
    "2. I use GPT-3 to summarise instead of relying on the article."
   ],
   "metadata": {
    "collapsed": false
   }
  },
  {
   "cell_type": "code",
   "execution_count": 1,
   "outputs": [],
   "source": [
    "# Load environment values\n",
    "%load_ext dotenv\n",
    "%dotenv"
   ],
   "metadata": {
    "collapsed": false
   }
  },
  {
   "cell_type": "code",
   "execution_count": 3,
   "outputs": [],
   "source": [
    "from langchain import VectorDBQA\n",
    "# Load vector store\n",
    "import os\n",
    "import weaviate\n",
    "\n",
    "resource_owner_config = weaviate.AuthClientPassword(\n",
    "    username=os.getenv('WEAVIATE_USER'),\n",
    "    password=os.getenv('WEAVIATE_PASSWORD'),\n",
    ")\n",
    "\n",
    "client = weaviate.Client(\n",
    "    os.getenv('WEAVIATE_URL'),\n",
    "    auth_client_secret=resource_owner_config,\n",
    "    additional_headers={\n",
    "        \"X-OpenAI-Api-Key\": os.getenv('OPENAI_KEY')\n",
    "    }\n",
    ")\n",
    "\n",
    "from langchain.vectorstores import Weaviate\n",
    "weaviate = Weaviate(client, \"Article\", \"content\")\n",
    "\n",
    "from langchain.llms import OpenAI\n",
    "\n",
    "chain = VectorDBQA.from_chain_type(llm=OpenAI(temperature=0, openai_api_key=os.getenv('OPENAI_KEY')), chain_type=\"stuff\", vectorstore=weaviate, return_source_documents=True)\n"
   ],
   "metadata": {
    "collapsed": false
   }
  },
  {
   "cell_type": "code",
   "execution_count": 5,
   "outputs": [
    {
     "data": {
      "text/plain": "{'query': 'Which Singapore banks pool credit card points?',\n 'result': ' American Express, Citi, DBS, HSBC, Maybank, OCBC, Standard Chartered, and UOB.',\n 'source_documents': [Document(page_content='Credit cards had existed in Singapore for nearly three decades now, and mass adoption had turned them from cherished invitation to common commodity.\\xa0\\n\\nThe ubiquity meant that the vast majority of card perks were underwhelming.\\n\\nBanks touted complimentary travel insurance, quick card replacement and a maximum liability of S$100 for lost or stolen cards as selling points- hardly things to get the pulse racing.\\xa0\\n\\n\\n.MOINSBD_PostFour { width: 320px; height: 100px; }\\n@media(min-width: 500px) { .MOINSBD_PostFour { width: 468px; height: 60px; } }\\n@media(min-width: 800px) { .MOINSBD_PostFour { width: 728px; height: 90px; } }\\nThat all changed when American Express shook up the market with the launch of Premier Tribute in November 1991, which I regard as the first “proper” rewards programme in Singapore.\\n\\nCardholders whose 3-month average spending fell above a certain threshold could choose from gifts like musical and concert tickets, wine classes and F&B experiences.\\n\\nPremier Tribute advertisement | Source:', lookup_str='', metadata={}, lookup_index=0),\n  Document(page_content='Broadly speaking, any general spending card will earn points with CardUp (except HSBC):American Express® Singapore Airlines KrisFlyer Credit CardAmerican Express® Singapore Airlines KrisFlyer Ascend Credit CardAmerican Express® Singapore Airlines PPS Club Credit CardAmerican Express® Singapore Airlines Solitaire PPS Club Credit CardBank of China\\n\\nElite Miles World MastercardCiti PremierMiles Visa CardCiti PremierMiles American Express CardCiti PremierMiles MastercardCiti Prestige CardCiti\\n\\nULTIMA CardDBS Altitude Visa Signature CardDBS Altitude American Express CardDBS Insignia Visa Infinite CardDBS Treasures Black Elite American Express CardDBS Vantage CardOCBC Voyage CardOCBC Voyage Premier / PPC / BOS CardOCBC 90ºN\\n\\nCardStandard Chartered Priority Banking Visa Infinite Credit CardStandard Chartered Visa Infinite Credit CardStandard Chartered Visa Infinite X Credit CardUOB PRVI Miles MastercardUOB PRVI Miles Visa CardUOB PRVI Miles American Express CardUOB Reserve CardUOB Visa Infinite Metal CardUOB Visa Signature CardKrisFlyer UOB Credit CardQ:\\xa0Do any cards earn 10X with CardUp?A:', lookup_str='', metadata={}, lookup_index=0),\n  Document(page_content='Take away credit cards, and how many people would stay in hotels or rent enough cars to be meaningfully involved?If there was any silver lining, it was that tie-ups launched prior to October 1994 (e.g. Passages) would be allowed to see out their contractual agreements, after which airlines had to bear the costs of any rewards scheme alone.\\xa0\\n\\nBut perhaps the banks should have seen this coming.\\n\\nJust the year before, DBS had been on the receiving end of an almighty telling off by regulators, consumer watchdogs, and even then-finance minister Richard Hu (though he declined to mention them by name) for sending out unsolicited, pre-approved credit cards to 25% of its cardholders.\\xa0\\n\\n“This makes nonsense of the government’s efforts to encourage the virtues of frugality,” said CASE in a statement.\\xa0\\n\\nDBS’s dispatching of unsolicited credit cards didn’t go down well with the regulator | Source: Straits Times, Business TimesWith credit card debt hitting all-time highs, MAS was also concerned about the aggressive marketing campaigns banks were undertaking to promote card spending.\\n\\nFreebies and promotions tied to spending were de rigueur, with American Express’ Premier Tribute programme rapidly copied across the market.\\n\\nSingaporeans held an average of three cards per eligible person, one of the highest rates in the region.', lookup_str='', metadata={}, lookup_index=0),\n  Document(page_content='Before you dismiss it, however, consider that American Express has the fewest rewards restrictions of any bank in Singapore- you can earn miles on government transactions, education fees and hospital bills, assuming AMEX cards are accepted.\\n\\nThis makes it a good “card of last resort” when you suspect a particular payment might not earn points with another bank.\\n\\nPoints Flexibility and ExpiryCardExpiryPartnersXfer FeeMin.\\n\\nXferAMEX Plat.\\n\\nReserveNone11None250 milesCiti PrestigeNone11S$26.7510K milesDBS Vantage3 yrs.4S$26.75@10K milesHSBC Visa Infinite37 mo.2S$42.80^10K milesMaybank Visa InfiniteNone4None5K milesOCBC VOYAGENone1None1 mileSCB\\n\\nVisa InfiniteNone10S$26.751K milesUOB VI Metal Card2 yrs.2S$25#10K miles@Alternatively, pay S$42.80 for automatic conversions every quarter^An annual fee that covers unlimited transfers during a 12-mth period#Alternatively, pay S$50 for automatic conversions each monthQuantity of points is one thing; quality is another.', lookup_str='', metadata={}, lookup_index=0)]}"
     },
     "execution_count": 5,
     "metadata": {},
     "output_type": "execute_result"
    }
   ],
   "source": [
    "query = \"Which Singapore banks pool credit card points?\"\n",
    "chain(query)"
   ],
   "metadata": {
    "collapsed": false
   }
  },
  {
   "cell_type": "markdown",
   "source": [
    "**Compare ChatGPT**\n",
    "Q: Which Singapore banks pool credit card points?\n",
    "A: In Singapore, several banks offer credit card points that can be pooled or transferred to other credit card accounts. Some of the banks that offer this service include:\n",
    "\n",
    "    CitiBank\n",
    "    DBS Bank\n",
    "    OCBC Bank\n",
    "    UOB Bank\n",
    "\n",
    "Customers can usually transfer or pool their credit card points through the bank’s online banking portal or mobile app. It’s worth noting that the process of pooling or transferring points may vary by bank, and some banks may have restrictions on the types of accounts that can participate in point pooling. It’s also important to check if there is any expiry date for the points before pooling or transferring them.\n",
    "\n",
    "**Evaluation**\n",
    "An answer that’s mostly right, but being mostly right is like being a little bit pregnant.\n",
    "\n",
    "Citibank, of course, does not pool points across cards, and if we wanted to be even more technical, we would point out that OCBC has three different types of rewards currencies: OCBC$, Travel$ and VOYAGE Miles. These pool within currency (e.g. Travel$ earned on the OCBC 90° N Visa and Mastercard), but not across currency (e.g. Travel $ earned on the OCBC 90° N Visa and OCBC$ earned on the OCBC Titanium Rewards)"
   ],
   "metadata": {
    "collapsed": false
   }
  },
  {
   "cell_type": "code",
   "execution_count": 6,
   "outputs": [
    {
     "data": {
      "text/plain": "{'query': 'Which Singapore credit cards earn non-expiring miles?',\n 'result': ' The American Express Platinum Reserve, Citi Prestige, DBS Vantage, HSBC Visa Infinite, Maybank Visa Infinite, OCBC Voyage, SCB Visa Infinite, and UOB VI Metal Card all earn non-expiring miles.',\n 'source_documents': [Document(page_content='Before you dismiss it, however, consider that American Express has the fewest rewards restrictions of any bank in Singapore- you can earn miles on government transactions, education fees and hospital bills, assuming AMEX cards are accepted.\\n\\nThis makes it a good “card of last resort” when you suspect a particular payment might not earn points with another bank.\\n\\nPoints Flexibility and ExpiryCardExpiryPartnersXfer FeeMin.\\n\\nXferAMEX Plat.\\n\\nReserveNone11None250 milesCiti PrestigeNone11S$26.7510K milesDBS Vantage3 yrs.4S$26.75@10K milesHSBC Visa Infinite37 mo.2S$42.80^10K milesMaybank Visa InfiniteNone4None5K milesOCBC VOYAGENone1None1 mileSCB\\n\\nVisa InfiniteNone10S$26.751K milesUOB VI Metal Card2 yrs.2S$25#10K miles@Alternatively, pay S$42.80 for automatic conversions every quarter^An annual fee that covers unlimited transfers during a 12-mth period#Alternatively, pay S$50 for automatic conversions each monthQuantity of points is one thing; quality is another.', lookup_str='', metadata={}, lookup_index=0),\n  Document(page_content='Broadly speaking, any general spending card will earn points with CardUp (except HSBC):American Express® Singapore Airlines KrisFlyer Credit CardAmerican Express® Singapore Airlines KrisFlyer Ascend Credit CardAmerican Express® Singapore Airlines PPS Club Credit CardAmerican Express® Singapore Airlines Solitaire PPS Club Credit CardBank of China\\n\\nElite Miles World MastercardCiti PremierMiles Visa CardCiti PremierMiles American Express CardCiti PremierMiles MastercardCiti Prestige CardCiti\\n\\nULTIMA CardDBS Altitude Visa Signature CardDBS Altitude American Express CardDBS Insignia Visa Infinite CardDBS Treasures Black Elite American Express CardDBS Vantage CardOCBC Voyage CardOCBC Voyage Premier / PPC / BOS CardOCBC 90ºN\\n\\nCardStandard Chartered Priority Banking Visa Infinite Credit CardStandard Chartered Visa Infinite Credit CardStandard Chartered Visa Infinite X Credit CardUOB PRVI Miles MastercardUOB PRVI Miles Visa CardUOB PRVI Miles American Express CardUOB Reserve CardUOB Visa Infinite Metal CardUOB Visa Signature CardKrisFlyer UOB Credit CardQ:\\xa0Do any cards earn 10X with CardUp?A:', lookup_str='', metadata={}, lookup_index=0),\n  Document(page_content='AMEXS$50K in 12 months20,000 milesNone of these are terribly exciting, given their strict T&Cs.\\xa0\\n\\nI know I shouldn’t go down the rabbit hole of comparing Singapore cards to those in the USA, but the milestone benefits over there sure seem better: the Hilton Aspire Card offers a free weekend night with a minimum annual spend of US$60,000, while the Marriott Bonvoy Brilliant awards a choice of 5 Suite Night Awards, an 85,000-point free night reward or US$750 off a mattress with a minimum annual spend of S$60,000.KrisFlyer UOB Credit Card: KrisFlyer Elite SilverKrisFlyer UOB Credit Cardmember who opened their card between 1 May 2021 to 30 April 2022 will be eligible for an upgrade to KrisFlyer Elite Silver when they spend, in their first membership year:\\xa0S$5,000 on SIA or Scoot tickets, orS$50,000 in totalI shouldn’t have to tell you that KrisFlyer Elite Silver is nothing to get excited about.\\n\\nThere’s no lounge access, priority baggage, priority boarding or anything of consequence.\\n\\nWhat’s more, you’ll need to wait six weeks from the end of your membership year to get the upgrade!', lookup_str='', metadata={}, lookup_index=0),\n  Document(page_content='What card should I use?Singapore Airlines bookings code as MCC 3075 (Airlines), and using the following credit cards will allow you to maximise your miles.\\n\\nCardEarn RateRemarksHSBC RevolutionApply4.0 mpdMax S$1K per c. monthReviewDBS\\n\\nWoman’s World CardApply4.0 mpdMax S$2K per c. monthReviewUOB Lady’s CardApply4.0 mpdMax S$1K per c. month.\\n\\nMust choose travel as 10X category.\\n\\nReviewUOB Lady’s SolitaireApply4.0 mpdMax S$3K per c. month.\\n\\nMust choose travel as 10X category.\\n\\nReviewUOB KrisFlyer Credit CardApply3.0 mpd\\xa0DBS Altitude AMEX or VISAApply3.0 mpdMax S$5K per c. monthReviewEven\\n\\nthough tickets are purchased online, be careful not to use the Citi Rewards Card as it excludes travel from earning 4 mpd.\\n\\nDon’t forget Spontaneous EscapesSpontaneous EscapesFor those travelling in May, don’t forget that KrisFlyer Spontaneous Escapes are also available for booking till 30 April 2022, with 30% off Economy, Premium Economy and Business Class awards to selected destinations.', lookup_str='', metadata={}, lookup_index=0)]}"
     },
     "execution_count": 6,
     "metadata": {},
     "output_type": "execute_result"
    }
   ],
   "source": [
    "query = \"Which Singapore credit cards earn non-expiring miles?\"\n",
    "chain(query)"
   ],
   "metadata": {
    "collapsed": false
   }
  },
  {
   "cell_type": "markdown",
   "source": [
    "Q: Which Singapore credit cards earn non-expiring miles?\n",
    "\n",
    "A: In Singapore, some credit cards offer non-expiring miles, meaning that the miles earned through credit card spending do not have an expiration date. Here are some examples of credit cards that offer non-expiring miles:\n",
    "\n",
    "    Citi PremierMiles Visa Card: Miles earned with this card do not expire as long as the card is active.\n",
    "    UOB PRVI Miles Visa Card: Miles earned with this card do not expire as long as the account is in good standing\n",
    "    DBS Altitude Visa Card: Miles earned with this card do not expire as long as the card account is in good standing\n",
    "    OCBC 90°N Card: Miles earned with this card do not expire as long as the account is in good standing.\n",
    "\n",
    "Please note that the terms and conditions of the non-expiring miles program may vary, such as the minimum spend required to earn miles. the transfer ratio of miles to frequent flyer programs, and the expiration date of the card. Its always best to check the bank’s website or contact the bank’s customer service for more information on the credit card’s program.\n",
    "\n",
    "–ChatGPT\n",
    "\n",
    "It’s a bit strange that ChatGPT defaults to mentioning the Visa versions of (1), (2) and (3), when they come in other flavours as well.\n",
    "\n",
    "But anyway, like the previous question, ChatGPT is partially correct. The Citi PremierMiles Card, DBS Altitude Card and OCBC 90°N Card have non-expiring miles, but the UNI$ earned on the UOB PRVI Miles Card expire after 2 years."
   ],
   "metadata": {
    "collapsed": false
   }
  },
  {
   "cell_type": "code",
   "execution_count": 8,
   "outputs": [
    {
     "data": {
      "text/plain": "{'query': ' Which Singapore bank has the most points transfer partners?',\n 'result': ' Citibank has the most points transfer partners in Singapore, with 12 airline and hotel programmes to choose from.',\n 'source_documents': [Document(page_content='Which bank has the most transfer partners?While the addition of AirAsia brings UOB’s transfer partner stable to three, it’s still a far cry from the big boys in the market.\\xa0\\n\\nClick to enlargeThe leader by far remains Citibank with its 10 airline and one hotel partner, followed by American Express with nine airline and two hotel partners, and Standard Chartered with eight airline and two hotel partners (no, they’ve not removed KrisFlyer).\\xa0\\n\\nConclusionUOB cardholders now have three airline transfer partners to convert their UNI$ to, but I just can’t see any scenario in which you’d opt for AirAsia.\\n\\nEven if you need airasia tickets, you’re better off buying them on sale than turning your hard-earned UNI$ into airasia points.\\xa0\\n\\n\\n.MOINSBD_PostSix { width: 320px; height: 100px; }\\n@media(min-width: 500px) { .MOINSBD_PostSix { width: 468px; height: 60px; } }\\n@media(min-width: 800px) { .MOINSBD_PostSix { width: 728px; height: 90px; } }\\n\\n\\nAny sweet spots within the AirAsia rewards programme I’m unaware of?', lookup_str='', metadata={}, lookup_index=0),\n  Document(page_content='The number of transfer partners in Singapore is large and growing, meaning that nobody has to be locked into KrisFlyer.\\n\\nIs it easier to accumulate KrisFlyer miles in Singapore, given Kris+ and other options?\\n\\nUndoubtedly.\\n\\nBut when it comes to bank points, it’s not the only choice for your transfers, and given the continued devaluations we’ve seen across many programmes, it is certainly nice to have options.\\n\\nHotel programmes are starting to gain popularity as transfer options, although in general hotel programmes don’t offer such outsized value as traditional first and business class airline redemptions.\\n\\nAs more and more airlines move towards revenue based redemptions, however, this is something to watch.\\n\\nIHG, Marriott and Accor, in particular, have been aggressively marketing their partnership options, so we might expect to see more banks adding these partnerships in future.\\n\\nThe key, as always, to maximising your personal miles utility is to think carefully about your situation and what will serve you best.\\n\\nIt’s an individual game and the more options we have, the better off we all will be.', lookup_str='', metadata={}, lookup_index=0),\n  Document(page_content='.MOINSBD_PostSix { width: 320px; height: 100px; }\\n@media(min-width: 500px) { .MOINSBD_PostSix { width: 468px; height: 60px; } }\\n@media(min-width: 800px) { .MOINSBD_PostSix { width: 728px; height: 90px; } }\\nTransfer partners by bankAs a reminder, here’s the current list of transfer partners by bank.\\xa0\\n\\nClick to enlargeSingapore Airlines is the obvious leader, partnering with all nine points-awarding banks.\\n\\nCathay Pacific in second place with seven, followed by Qantas in third with four.\\xa0\\n\\nMore rare are partners like Turkish Miles&Smiles, Accor Live Limitless and Marriott Bonvoy- I certainly hope to see more banks getting them on board!ConclusionOCBC is set to add seven new airline and hotel transfer partners by December 2022, giving cardholders alternatives to KrisFlyer.\\xa0\\n\\nIt’s yet to be confirmed who the seven are, but Cathay Pacific is almost a nailed-on certainty, as well as one of Accor Live Limitless, IHG One Rewards or Marriott Bonvoy.', lookup_str='', metadata={}, lookup_index=0),\n  Document(page_content='Citibank has the widest variety of transfer partners in Singapore, with 12 airline and hotel programmes to choose from.\\n\\nThis gives you access to some great sweet spots, like with British Airways Executive Club, Etihad Guest, and Turkish Miles&Smiles.\\xa0\\n\\nPoints transfer at a 1:1 ratio, with a minimum transfer block of 10,000 miles.\\xa0\\n\\nFrequent Flyer ProgrammeConversion Ratio (Citi Miles: Partner)10,000: 10,00010,000: 10,00010,000: 10,00010,000: 10,00010,000: 10,00010,000: 10,00010,000: 10,00010,000: 10,00010,000: 10,00010,000: 10,00010,000: 10,000Transfers cost S$26.75 per programme, regardless of how many points are transferred.\\n\\nCiti Miles can also be redeemed for cash rebates at a dismal rate of 165 miles =S$1.\\n\\nThere is absolutely no reason for you to take this option- you’d be better off using a cashback card if you did!Other card perksTwo free lounge\\n\\nvisitsThe Citi PremierMiles is a relative rarity in its segment for having lounge access.\\n\\nCardholders receive two free visits per year, via Priority Pass.', lookup_str='', metadata={}, lookup_index=0)]}"
     },
     "execution_count": 8,
     "metadata": {},
     "output_type": "execute_result"
    }
   ],
   "source": [
    "query = \" Which Singapore bank has the most points transfer partners?\"\n",
    "chain(query)"
   ],
   "metadata": {
    "collapsed": false
   }
  },
  {
   "cell_type": "markdown",
   "source": [
    "Q: Which Singapore bank has the most points transfer partners?\n",
    "\n",
    "A: In Singapore, banks have partnerships with different frequent flyer programs and loyalty schemes, which allows customers to transfer their credit card points to these programs. The bank with the most points transfer partners may vary over time, but currently, DBS and UOB have a wide variety of transfer partners.\n",
    "\n",
    "DBS has partnerships with frequent flyer programs such as Singapore Airlines KrisFlyer, Cathay Pacific Asia Miles, and Thai Airways Royal Orchid Plus, as well as hotel loyalty programs like Marriott Bonvoy, Hilton Honors, and Accor Live Limitless.\n",
    "\n",
    "UOB also has partnerships with frequent flyer programs such as Singapore Airlines KrisFlyer, Cathay Pacific Asia Miles, and Thai Airways Royal Orchid Plus, as well as hotel loyalty programs like Marriott Bonvoy, Hilton Honors, and Accor Live Limitless, plus other loyalty schemes like Grab Rewards.\n",
    "\n",
    "Citibank also has a good number of transfer partners such as Singapore Airlines KrisFlyer, Cathay Pacific Asia Miles, Qantas Frequent Flyer and Thai Airways Royal Orchid Plus.\n",
    "\n",
    "It’s always best to compare the transfer partners of different banks and credit cards to see which program aligns best with your travel and redemption goals. It’s also important to keep in mind that some banks may charge a fee for transferring points and some partners may have different transfer ratios.\n",
    "\n",
    "–ChatGPT\n",
    "\n",
    "DBS and UOB most certainly do not have the most transfer partners in Singapore, with the former having four and the latter having three (AirAsia Rewards was added recently, in case you’re out of the loop). And they both don’t partner with THAI, Marriott Bonvoy, Hilton Honors or Accor Live Limitless.\n",
    "\n",
    "Citibank is a right call, although the absence of American Express and Standard Chartered means this answer isn’t anywhere near adequate."
   ],
   "metadata": {
    "collapsed": false
   }
  },
  {
   "cell_type": "code",
   "execution_count": 9,
   "outputs": [
    {
     "data": {
      "text/plain": "{'query': 'How do I transfer DBS Points to KrisFlyer?',\n 'result': ' You can transfer DBS Points to KrisFlyer via the Kris+ transfer portal. The transfer rate is 1 DBS Point to 1.7 miles, and there is no transfer fee. The transfer is instant.',\n 'source_documents': [Document(page_content='DBS PointsRead More1 UNI$: 1.7 miles1,000 UNI$26\\n\\nSTAR$: 1 mile9,880 STAR$KrisPay miles can then be transferred immediately to KrisFlyer miles at a 1:1 ratio.\\xa0\\n\\nIf you’re transferring bank points, do note that the Kris+ transfer rate represents a 15% haircut compared to the number of miles you’d receive if you used the bank’s transfer portal.\\n\\n(e.g. 100 DBS Points is normally worth 200 miles via the DBS Rewards portal, but only 170 miles via Kris+).Transfer DBS Points via…\\xa0\\xa0Kris+\\xa0DBS Rewards PortalMin. Transfer100\\n\\nDBS Points5,000 DBS PointsTransfer FeeNoneS$26.75Transfer TimeInstant2-3 working daysTransfer Ratio1 DBS Point = 1.7 miles1\\n\\nDBS Point = 2 milesOn the plus side, there are no conversion fees via the Kris+ route, conversion blocks are smaller, and your miles are credited instantly.\\xa0\\n\\nInstant: LinkPointsTimeInstantTransfer CostFreeOpportunity Cost1.87-2 cents per mileLinkPoints was added as a KrisFlyer transfer partner in April 2022, and while converting KrisFlyer miles to LinkPoints is a terrible idea, conversions in the opposite direction can sometimes make sense.', lookup_str='', metadata={}, lookup_index=0),\n  Document(page_content='Otherwise they’ll be stuck in the Kris+ app with a six-month expiry and a value of 0.67 cents each.\\xa0\\n\\nMake it a habit to press the “transfer to KrisFlyer” button that appears at the end of the payment process.\\n\\nDon’t leave it till later!Transferring Citi/DBS/UOB points & CapitaStarsIn addition to earning miles at selected merchants, Kris+ also offers instant conversions of Citi Miles & ThankYou Points, DBS Points, UOB UNI$ and CapitaStars to KrisPay miles.\\n\\nBankTransfer RatioMin.\\n\\nTransferRead More1\\n\\nCiti Mile: 0.85 miles1 TYP:\\n\\n0.34 miles4,000\\n\\nCiti Miles10,000 TYPRead More1 DBS Point: 1.7 miles100\\n\\nDBS PointsRead More1 UNI$: 1.7 miles1,000 UNI$26\\n\\nSTAR$: 1 mile9,880 STAR$KrisPay miles can then be transferred immediately to KrisFlyer miles at a 1:1 ratio.\\xa0\\n\\nIf you’re transferring bank points, do note that the Kris+ transfer rate represents a 15% haircut compared to the number of miles you’d receive if you used the bank’s transfer portal.', lookup_str='', metadata={}, lookup_index=0),\n  Document(page_content='This means you may not be able to get the exact date, time or destination you were hoping for.\\n\\nSecond, each DBS Point commands a fixed value on TMP, so the number of points required will depend on the price of the flight- cheaper flight, fewer points; more expensive flight, more points.\\n\\nThe number of KrisFlyer miles required follows an award chart, so regardless of the price of the flight, the number of miles remains the same.\\xa0\\n\\nThird, DBS Points can be used to cover taxes and surcharges when redeemed on TMP (since they’re folded into the total price).\\n\\nWhen redeeming KrisFlyer miles, you’ll need to pay taxes and surcharges in cash (SIA does not have fuel surcharges, but other partner airlines may).Fourth, flights booked through TMP are similar to tickets bought with cash.\\n\\nThat means you’ll earn miles and status credits according to the fare class.\\n\\nIn contrast, award flights are not eligible to earn miles or status credits.\\n\\nFifth, there are no fees applicable when you offset DBS Points on TMP, but you’ll need to pay a S$26.75 admin fee when transferring DBS Points to KrisFlyer miles.\\n\\nThis is a relatively minor point though, as I wouldn’t consider a S$26.75 admin fee to be a major deciding factor.', lookup_str='', metadata={}, lookup_index=0),\n  Document(page_content='TransferTransfer BlocksRead More4,000 Citi Miles: 3,400 miles10,000 TYP: 3,400 miles4,000 Citi Miles10,000 TYPRead More100 DBS Points: 170 miles100\\n\\nDBS PointsRead More1,000 UNI$: 1,700 miles1,000 UNI$9,880 STAR$: 380 miles26 STAR$Do note that because of the transfer blocks involved, only transfers of KrisFlyer miles will let you hit the 750 KrisPay mile minimum on the dot.\\xa0\\n\\nKrisPay miles won through this promotion will be instantly credited, and are valid for six months.\\n\\nHowever, they cannot be transferred back to KrisFlyer, and must be spent via Kris+.\\xa0\\n\\nKrisFlyer miles are normally worth 0.67 cents each when transferred to Kris+, but once you factor in the mystery bonus, the value could end up higher.\\n\\nAssuming 750 Miles TransferredIf you win…Cents per mile150 KrisPay miles0.80300 KrisPay miles0.93450 KrisPay miles1.07900 KrisPay miles1.477,500 KrisPay miles7.33You could stretch the value even further if you spent these\\xa0miles during one of Kris+’s regular milesback promos.', lookup_str='', metadata={}, lookup_index=0)]}"
     },
     "execution_count": 9,
     "metadata": {},
     "output_type": "execute_result"
    }
   ],
   "source": [
    "query = \"How do I transfer DBS Points to KrisFlyer?\"\n",
    "chain(query)"
   ],
   "metadata": {
    "collapsed": false
   }
  },
  {
   "cell_type": "markdown",
   "source": [
    "Q: How do I transfer DBS Points to KrisFlyer?\n",
    "\n",
    "A: DBS points can be transferred to Singapore Airlines KrisFlyer miles through the DBS Rewards program. The transfer process is generally simple and can be done online. Here’s an outline of the steps:\n",
    "\n",
    "  *  Log in to your DBS Rewards account online.\n",
    "\n",
    "  * Under the “Redeem” tab, select the “Transfer to Miles” option.\n",
    "\n",
    "  *  Choose Singapore Airlines KrisFlyer as the transfer partner.\n",
    "\n",
    "  *  Enter the number of DBS points you wish to transfer and confirm the transfer.\n",
    "\n",
    "  *  The KrisFlyer miles will be credited to your KrisFlyer account within 3 working days.\n",
    "\n",
    "It’s worth noting that DBS points can be transferred to KrisFlyer miles at a 1:1 ratio, and there’s no minimum transfer amount but a minimum of 2,000 DBS Points need to be converted and there may be a transfer fee. Make sure to check the terms and conditions of the DBS Rewards program to ensure that you understand any applicable fees, expiration dates or other restrictions.\n",
    "\n",
    "-ChatGPT\n",
    "\n",
    "The steps are generally correct, if somewhat poorly labelled (you look under the “Travel” tab for the KrisFlyer mile option). That said, I’m surprised ChatGPT gave the correct crediting timeline of three working days, instead of DBS’s official but excessively CYA timeframe of 1-2 weeks.\n",
    "\n",
    "You should probably ignore everything after step (5), since DBS Points transfer to KrisFlyer miles at a 1:2 ratio, with a minimum block of 5,000 DBS Points."
   ],
   "metadata": {
    "collapsed": false
   }
  },
  {
   "cell_type": "code",
   "execution_count": 10,
   "outputs": [
    {
     "data": {
      "text/plain": "{'query': 'How do I link my KrisFlyer and Shangri-La Circle accounts?',\n 'result': \" You can link your KrisFlyer and Shangri-La Circle accounts by signing in to your KrisFlyer account on KrisShop.com. You'll see a pop-up window appear automatically, and you should make sure to check the box in red at the time of registration. If you accidentally close this pop-up or don’t see it, you can also login to your KrisFlyer account on singaporeair.com, click on Miles > How to Earn, locate the KrisShop section and click on Link Account. A confirmation email will be sent once your accounts have been linked.\",\n 'source_documents': [Document(page_content='You’ll see the following pop-up window appear automatically.\\xa0\\n\\nMake sure to check the box in red at the time of registrationIf you accidentally close this pop-up or don’t see it, you can also login to your KrisFlyer account on singaporeair.com, click on Miles > How to Earn, locate the KrisShop section and click on Link Account.\\n\\nA confirmation email will be sent once your accounts have been linked.\\n\\nYou can find the full T&Cs of the KrisShopper programme here.\\xa0\\n\\nKrisShopper status matchFrom now till 30 June 2022, KrisShopper is offering a status match for KrisFlyer Elite and PPS Club members, according to the following table.\\n\\nKrisFlyer StatusKrisShopper StatusKrisFlyer Elite SilverInsider (2.5 mpd)KrisFlyer Elite GoldIcon (3 mpd)PPS ClubAmbassador(4 mpd)Solitaire\\n\\nPPS ClubAmbassador(4 mpd)This match will be processed automatically when members link their KrisFlyer account to KrisShopper and subscribe to KrisShopper news and promotions.\\n\\nAll matched status is valid for a 12-month period, and subsequent retention or upgrading will be based on the regular KrisShopper spend requirement.\\n\\nWhat card should you use for KrisShop?KrisShop purchases with code as MCC 5309 Duty Free Stores.', lookup_str='', metadata={}, lookup_index=0),\n  Document(page_content='KrisFlyer StatusKrisShopper StatusKrisFlyer Elite SilverInsider (2.5 mpd)KrisFlyer Elite GoldIcon (3 mpd)PPS ClubAmbassador(4 mpd)Solitaire\\n\\nPPS ClubAmbassador(4 mpd)❓ Linking KrisFlyer account to KrisShopperTo link your accounts, simply sign-in to your KrisFlyer account on KrisShop.com.\\n\\nYou’ll see the following pop-up window appear automatically (remember to check the box in red).If you accidentally close this pop-up or don’t see it, you can also login to your KrisFlyer account on singaporeair.com, click on Miles > How to Earn, locate the KrisShop section and click on Link Account.\\n\\nA confirmation email will be sent once your accounts have been linked.\\n\\nYou can find the full T&Cs of the KrisShopper programme here.\\xa0\\n\\nEarn 7.5 mpd from KrisShop on Kris+From now till 31 August 2022, KrisShop on Kris+ is offering an additional 7.5 mpd for all purchases.\\n\\nWhen stacked with the regular KrisShopper rates, this yields a total of 9.5-11.5 mpd, before taking into account credit card miles.', lookup_str='', metadata={}, lookup_index=0),\n  Document(page_content='Click to enlargeThe main perks to highlight for Jade members are complimentary breakfast for two adults, as well as 11 a.m check-in and 4 p.m check-out, where available.\\n\\nJade members can also enjoy instant KrisFlyer Elite Silver membership via the Infinite Journeys partnership, with a fast-track to KrisFlyer Elite Gold after three eligible flights of any duration.🟡 Shangri-La Circle Effective Rebate\\xa0GoldJadeDiamondPoints per US$111.251.5Redeem points15 points per US$1Effective rebate6.7%8.3%10%All points are valid for 3 yearsJade members earn 1.25 points per US$1 spent at Shangri-La hotels, and redeem points at a rate of 15 points per US$1.\\n\\nThis works out to an effective rebate of 8.3%.\\n\\n\\n.MOINSBD_PostSix { width: 320px; height: 100px; }\\n@media(min-width: 500px) { .MOINSBD_PostSix { width: 468px; height: 60px; } }\\n@media(min-width: 800px) { .MOINSBD_PostSix { width: 728px; height: 90px; } }\\n\\n\\nUnfortunately, Shangri-La Circle underwent a massive devaluation in April 2022, which saw the award chart removed in favour of dynamic pricing and fixed value points.', lookup_str='', metadata={}, lookup_index=0),\n  Document(page_content='The other difference is that World of Hyatt allows members to combine points for a redemption.\\n\\nSo if Friend A is helping you make a Guest of Honour booking, you’d typically transfer points to him to fund the redemption (unless Friend A is truly a friend with benefits, in more ways than one).Shangri-La Circle does not allow the pooling of points with other members, but then again, Family Benefits are meant for family.\\n\\nThere’s no keeping accounts among family, is there?ConclusionShangri-La SingaporeShangri-La Circle Diamond members can now nominate up to five family members to share their benefits with during award stays.\\xa0\\n\\nWhile the mechanism is more restrictive than World of Hyatt’s Guest of Honour benefit, I suppose that could be a feature not a bug, insofar as it keeps the Diamond experience exclusive.\\n\\nHave you tried the family membership feature with Shangri-La yet?\\n.MOINSBD_PostSix { width: 320px; height: 100px; }\\n@media(min-width: 500px) { .MOINSBD_PostSix { width: 468px; height: 60px; } }\\n@media(min-width: 800px) { .MOINSBD_PostSix { width: 728px; height: 90px; } }', lookup_str='', metadata={}, lookup_index=0)]}"
     },
     "execution_count": 10,
     "metadata": {},
     "output_type": "execute_result"
    }
   ],
   "source": [
    "query = \"How do I link my KrisFlyer and Shangri-La Circle accounts?\"\n",
    "chain(query)"
   ],
   "metadata": {
    "collapsed": false
   }
  },
  {
   "cell_type": "markdown",
   "source": [
    "Q: How do I link my KrisFlyer and Shangri-La Circle accounts?\n",
    "\n",
    "A: To link your KrisFlyer and Shangri-La Circle accounts, you will need to follow these steps:\n",
    "\n",
    "    * Log in to your KrisFlyer account on the KrisFlyer website.\n",
    "\n",
    "    * Go to the “Link Partners” section of the website and select “Shangri-La Circle” from the list of partners.\n",
    "\n",
    "    * Follow the instructions on the screen to link your accounts. This may involve entering your Shangri-La Circle account information or logging in to your Shangri-La Circle account through the KrisFlyer website.\n",
    "\n",
    "    * Once your accounts are linked, you will be able to earn KrisFlyer miles when you make reservations at Shangri-La Hotels and Resorts. You will also be able to redeem your miles for stays at Shangri-La Hotels and Resorts.\n",
    "\n",
    "Please note that the specific steps may vary slightly depending on your location and the version of the website. The partnership between KrisFlyer and Shangri-La Circle is also subject to change and might no longer exist, it is best to check the official website for the most up-to-date information.\n",
    "\n",
    "-ChatGPT\n",
    "\n",
    "The general sequence is correct, although people are likely to get lost at step (2) because there’s no such section on the KrisFlyer website called “link partners”. You’ll need to go to Profile > Partner Programmes to find the option to add Shangri-La."
   ],
   "metadata": {
    "collapsed": false
   }
  },
  {
   "cell_type": "code",
   "execution_count": 11,
   "outputs": [
    {
     "data": {
      "text/plain": "{'query': 'How do I find the MCC of a merchant before paying?',\n 'result': ' You can use DBS Payment Controls and the DBS digibot to check the MCC of a merchant before paying. You can temporarily block a DBS card via the DBS digibank app, then go to the merchant and swipe your locked card (or enter your details online, as the case may be). The transaction will fail since your card is locked, but you can then use the DBS digibot to check the MCC. Once you’ve confirmed the MCC, you can use whichever card you think is best.',\n 'source_documents': [Document(page_content='But there’s another way.\\n\\nChecking MCCs through DBSDoes SKIRT code as a restaurant or hotel?\\n\\nNow you’ll knowI previously wrote about how the DBS digibot can be used to check MCCs for transactions charged to DBS cards.\\xa0\\n\\nHowever, you can only do this after the fact.\\n\\nIn other words, you have to spend first, then make an enquiry about the transaction.\\n\\nOr do you?\\n\\nWhat if I told you there’s a way to confirm MCCs before paying?\\n.MOINSBD_PostFour { width: 320px; height: 100px; }\\n@media(min-width: 500px)\\n\\n{ .MOINSBD_PostFour { width: 468px; height: 60px; } }\\n@media(min-width: 800px) { .MOINSBD_PostFour { width: 728px; height: 90px; } }\\n\\n\\nThe first step is to temporarily block a DBS card via the DBS digibank app.\\n\\nYou can do this by tapping More on the bottom right hand corner, then scrolling down until you see Payment Controls.\\n\\nSelect the card you wish to use, then toggle the card lock option.\\n\\nNow go to the merchant and swipe your locked card (or enter your details online, as the case may be).\\n\\nThe transaction will fail since your card is locked.', lookup_str='', metadata={}, lookup_index=0),\n  Document(page_content='One of the biggest headaches in the miles game is figuring out a transaction’s all-important Merchant Category Code (MCC).\\n\\nThis can be the difference between earning a ton of miles, or walking away empty-handed.\\n\\nThe problem is: MCCs are often opaque to the customer, at least prior to spending.\\n\\nCardholders therefore have to rely on community-sourced data points (which are far from comprehensive) or test small transactions (if that’s even possible).\\xa0\\n\\nOpaque MCCs make spending a gamble.\\n\\nShould you try for 4 mpd with a specialised spending card and pray the MCC comes out right?\\n\\nOr play it safe with a general spending card and a more muted 1.2-1.6 mpd?\\xa0Is the MCC even eligible for rewards in the first place?For a while, the Visa Supplier Locator offered a taste of complete MCC transparency.\\n\\nUnfortunately, public access was shut off in November 2021, sending us back to square one.\\xa0\\n\\nBut there’s another way.\\n\\nChecking MCCs through DBSDoes SKIRT code as a restaurant or hotel?\\n\\nNow you’ll knowI previously wrote about how the DBS digibot can be used to check MCCs for transactions charged to DBS cards.\\xa0\\n\\nHowever, you can only do this after the fact.\\n\\nIn other words, you have to spend first, then make an enquiry about the transaction.', lookup_str='', metadata={}, lookup_index=0),\n  Document(page_content='You can match the description to the 4-digit code in this file if necessary.\\xa0\\n\\nNow that you know it, you can proceed to unblock the card and make the transaction for real (or use a different bank’s card, whichever is more suitable).Here’s a recent use case: the MileLioness has a five-digit dental course to pay for.\\n\\nI was toying with the idea of using this to hit a sign-up bonus for a CIMB card, but now that I’ve confirmed the MCC belongs to Schools & Educational Services, I know I’ll need to use an American Express or Maybank card if I want to get any points.\\n\\nRemember: this doesn’t just work for online transactions.\\n\\nYou can do the same thing for a brick-and-mortar merchant, provided you don’t feel embarrassed when your card is declined the first time (oh, how did that happen?).And, you know, step aside while you do your checks.\\n\\nDon’t hold up the queue.\\xa0\\n\\nConclusionBy using DBS Payment Controls and the DBS digibot, anyone with a DBS/POSB card can check MCCs without needing to spend a single cent, which should hopefully avoid any costly miles mistakes.\\n\\nOnce you’ve confirmed the MCC, you can use whichever card you think is best.', lookup_str='', metadata={}, lookup_index=0),\n  Document(page_content='Don’t hold up the queue.\\xa0\\n\\nConclusionBy using DBS Payment Controls and the DBS digibot, anyone with a DBS/POSB card can check MCCs without needing to spend a single cent, which should hopefully avoid any costly miles mistakes.\\n\\nOnce you’ve confirmed the MCC, you can use whichever card you think is best.\\n\\nIt may not be worth doing all the steps for a small transaction, but I know I’d definitely make the effort for a big ticket purchase.\\xa0\\n\\n(HT: Marc)', lookup_str='', metadata={}, lookup_index=0)]}"
     },
     "execution_count": 11,
     "metadata": {},
     "output_type": "execute_result"
    }
   ],
   "source": [
    "query = \"How do I find the MCC of a merchant before paying?\"\n",
    "chain(query)"
   ],
   "metadata": {
    "collapsed": false
   }
  },
  {
   "cell_type": "markdown",
   "source": [
    "Q: How do I find the MCC of a merchant before paying?\n",
    "\n",
    "A: Merchant Category Code (MCC) is a four-digit number assigned to a merchant by the credit card issuer. The MCC is used to classify the type of business or service that the merchant provides.\n",
    "\n",
    "There are a few ways to find the MCC of a merchant before paying:\n",
    "\n",
    "   * Contact the merchant directly: You can ask the merchant what their MCC is. Some merchants may have it displayed on their website, or they may be able to provide it to you over the phone or in person\n",
    "   *  Check your credit card statement: If you’ve made a purchase from the merchant before, the MCC should be listed on your credit card statement\n",
    "   * Search online: You can search for the merchant’s name along with the term “MCC” to see if the information is available online\n",
    "   * Contact your credit card issuer: Some credit card issuers may have a database of MCCs for merchants, and they may be able to provide you with the MCC for a specific merchant.\n",
    "\n",
    "Please note that not all merchants have unique MCCs, it may depend on the merchant’s type of business and the way they process the transactions.\n",
    "\n",
    "-ChatGPT\n",
    "\n",
    "Ah, the age old “what’s the MCC” question.\n",
    "\n",
    "It would have been amazing if ChatGPT had managed to suss out my article on how you can check MCCs before spending via DBS cards, but its answers were reasonable enough, if a little commonsensical.\n",
    "\n",
    "ChatGPT even raised a good point about how not all merchants would have a single MCC, e.g. retailers like Amazon and Lazada which sell a range of products. OCBC Titanium Rewards, you may remember, is planning to exclude grocery transactions processed under Amazon from 1 March 2023 while leaving other Amazon transactions untouched."
   ],
   "metadata": {
    "collapsed": false
   }
  },
  {
   "cell_type": "code",
   "execution_count": 13,
   "outputs": [
    {
     "data": {
      "text/plain": "{'query': 'Should I use the DBS Woman’s World Card or Citi Rewards Card for online spending?',\n 'result': \" It depends on your individual needs and preferences. The DBS Woman's World Card offers 4 mpd on all online spending, capped at S$2,000 per month, and points are valid for one year. The Citi Rewards Card offers 4 mpd on online spending, with a longer points expiry period of up to five years, but the points are not pooled with other DBS cards.\",\n 'source_documents': [Document(page_content='Otherwise, you’ll have access to the usual generic DBS benefits, which can be found here.\\xa0\\n\\nSummary Review: DBS Woman’s World CardApply HereGiven the sheer number of online transactions performed on a daily basis, you absolutely need to have a dedicated online spending card.\\n\\nWith an earn rate of 4 mpd, the DBS Woman’s World Card is one of the best options for this category.\\n\\nThe monthly 4 mpd cap of S$2,000 is also higher than other cards which offer bonuses on online spending, like the Citi Rewards or UOB Preferred Platinum Visa.\\xa0\\n\\nThe main drawback is the one year points expiry, which knocks half a star off for me.\\n\\nThis means you’ll have to commit to transferring your points at least once a year- hardly a deal-breaker, but annoying nonetheless.\\xa0\\n\\nSo that’s my review of the DBS Woman’s World Card.\\n\\nWhat do you think?Overall Score★★★★1/2Ratings Guide5 Stars★★★★★An essential card for miles chasers, with few viable alternatives\\xa04 Stars★★★★A very good card, although other equally good alternatives may exist3 Stars★★★A decent card to round out your collection, but not absolutely essential2 Stars★★Very limited use cases, and outperformed by most other cards1 Star★Paperweight.\\n\\nUse for picking teeth or ninja stars', lookup_str='', metadata={}, lookup_index=0),\n  Document(page_content='Most people see the DBS Woman’s World Card and assume from the name that its appeal is limited to 50% of the population.\\n\\nBut that would be a bad mistake to make, because you’d be missing out on one of the best kept secrets in Singapore.\\xa0\\n\\nIn fact, this is pretty much an essential card for all miles chasers, thanks to its excellent bonuses on online spending.\\xa0\\n\\nDBS Woman’s World Card★★★★1/2Don’t let the branding throw you off.\\n\\nThe DBS Woman’s World Card is an excellent option for online spending, and an easy way to generate up to 96,000 miles a year with just S$2,000 of expenditure per month.\\xa0👍\\n\\nThe good👎\\n\\nThe bad4 mpd on all online spendingRelatively high 4 mpd cap of S$2,000 per monthOpen to both gendersPoints only valid for 1 yearNo points for AmazeFull List of Credit Card ReviewsOverview: DBS Woman’s World CardLet’s start this review by looking at the key features of the DBS Woman’s World Card.\\xa0\\n\\nApply HereIncome Req.\\n\\nS$80,000 p.a.\\xa0Points Validity1\\n\\nyearAnnual FeeS$192.60(First Year Free)Min.', lookup_str='', metadata={}, lookup_index=0),\n  Document(page_content='Even if you’re the only person in your business, keep in mind it’s still S$16,667 of spending (30,000/1.8 mpd) that would otherwise have gone unrewarded.\\n\\nAnd should your family members be part of the business, you can add them as nominees too, increasing\\xa0the drawdown.\\xa0\\n\\n(2) DBS Woman’s World CardApplyUse ForAll online spendCurrent Sign-Up Offer(Ends 30 Jun 22)S$150 cashback with S$800 spend in first 60 days (use promo code 150CASH)\\xa0\\n\\nThis one’s probably less of a surprise.\\n\\nI regularly max out the 4mpd for online spending on the DBS Woman’s World Card (S$2,000 per month), sometimes even busting the cap through sheer carelessness (I know, I know).It’s not just for online spending though; thanks to the Amaze and its ability to convert offline transactions into online ones, I’ve been using the DBS Woman’s World Card as the default pairing for all my recent overseas trips.', lookup_str='', metadata={}, lookup_index=0),\n  Document(page_content='So long as you avoid any travel expenditure (flight tickets, hotels, tour agency, trains, rental car, cruises) or in-app mobile wallet transactions, it’s an easy 4 mpd on all online spending, capped at S$1,000 per statement month.\\xa0\\n\\nIn fact, one might argue that perhaps I should be prioritising this card over the DBS Woman’s World Card, given the sheer variety of transfer partners that Citi has, and the longer expiry period (one year for DBS Points on the Woman’s World Card versus up to five years for Citi Rewards).\\xa0\\n\\nCitibankDBSKrisFlyer✓✓Asia Miles✓✓British Airways Executive Club✓\\xa0Etihad Guest✓\\xa0EVA Infinity Mileage Lands✓\\xa0FlyingBlue✓\\xa0Qantas Frequent Flyer\\xa0✓Qatar Privilege Club✓\\xa0THAI Royal Orchid Plus✓\\xa0Turkish Miles & Smiles✓\\xa0That’s to say: 4 mpd on the Citi Rewards could be more valuable than 4 mpd on the DBS Woman’s World Card.\\n\\nIt’s a fair point.\\n\\nWhat DBS has in its favour is points pooling, but since I don’t actively use any other DBS cards, it shouldn’t factor into my decision.', lookup_str='', metadata={}, lookup_index=0)]}"
     },
     "execution_count": 13,
     "metadata": {},
     "output_type": "execute_result"
    }
   ],
   "source": [
    "query = \"Should I use the DBS Woman’s World Card or Citi Rewards Card for online spending?\"\n",
    "chain(query)"
   ],
   "metadata": {
    "collapsed": false
   }
  },
  {
   "cell_type": "markdown",
   "source": [
    "Q: Should I use the DBS Woman’s World Card or Citi Rewards Card for online spending?\n",
    "\n",
    "A: Both the DBS Woman’s World Card and the Citi Rewards Card have rewards programs that can be beneficial for online spending. However, the best card for you will depend on your specific spending habits and preferences.\n",
    "\n",
    "The DBS Woman’s World Card gives you 6X rewards on online fashion and beauty, 4X rewards on online travel bookings and 2X rewards on online shopping and everyday spends.\n",
    "\n",
    "The Citi Rewards Card gives you 10X rewards points on online shopping and dining.\n",
    "\n",
    "You should consider your spending habits and which category you spend more on, then compare the rewards, benefits, and fees of each card to determine which one will give you the most value. It’s also worth considering any promotions or bonus rewards that the card issuer may be offering.\n",
    "\n",
    "-Chat GPT\n",
    "\n",
    "Swing and a miss for ChatGPT here. It spouts gibberish about the DBS Woman’s World Card’s 2X, 4X and 6X rewards, when it’s as simple as 10X rewards for all online spending that’s not on the general exclusions list.\n",
    "\n",
    "Likewise, it limits the 10X rewards points on the Citi Rewards Card to online shopping and dining, when it should be all online transactions except travel and mobile wallet.\n",
    "\n",
    "I would have loved to see ChatGPT bring in other factors like points expiry, number of transfer partners, and points pooling when comparing these two cards."
   ],
   "metadata": {
    "collapsed": false
   }
  },
  {
   "cell_type": "code",
   "execution_count": 14,
   "outputs": [
    {
     "data": {
      "text/plain": "' The UOB Visa Signature is the better option for contactless spending, as it has a higher monthly 4 mpd cap.'"
     },
     "execution_count": 14,
     "metadata": {},
     "output_type": "execute_result"
    }
   ],
   "source": [
    "query = \"Should I use the UOB Preferred Platinum Visa or UOB Visa Signature for contactless spending?\"\n",
    "result = chain(query)\n",
    "\n",
    "result['result']"
   ],
   "metadata": {
    "collapsed": false
   }
  },
  {
   "cell_type": "markdown",
   "source": [
    "Q: Should I use the UOB Preferred Platinum Visa or UOB Visa Signature for contactless spending?\n",
    "\n",
    "A: Whether you should use the UOB Preferred Platinum Visa or the UOB Visa Signature for contactless spending will depend on your individual spending habits and preferences. Both cards offer rewards for contactless spending, but they have different earning rates and benefits.\n",
    "\n",
    "The UOB Preferred Platinum Visa offers 5% cashback on contactless transactions, and UOB One card allows customers to pool rewards across multiple UOB credit cards and enjoy higher cashback rate on their spending. It also offers other benefits such as travel insurance, discounts on hotel stays and dining.\n",
    "\n",
    "The UOB Visa Signature offers 3% cashback on contactless transactions, and also offers a wide range of benefits such as travel insurance, discounts on hotel stays and dining, and access to exclusive events.\n",
    "\n",
    "It’s important to compare the earning rates, rewards, benefits and fees of each card before making a decision. It’s also recommended to look at your spending habits and see which card aligns best with your spending patterns and preferences. You can also check the terms and conditions of the card to see which one offers the best value for you.\n",
    "\n",
    "-ChatGPT\n",
    "\n",
    "5% cashback on contactless transactions ? That doesn’t compute, somehow. Even if you took the UNI$ earned on the UOB Preferred Platinum Visa and converted them into cash rebates (don’t!), a 4 mpd earn rate translates into a 2% rebate, not 5%. Ditto the UOB Visa Signature; I have no idea how they got 3% cashback on contactless spend.\n",
    "\n",
    "I was really hoping ChatGPT would be able to highlight important differences like the minimum spend requirement of the UOB Visa Signature, its higher income requirement (not that it has any practical impact, but at least on paper…), its higher 4 mpd cap, or the “mobile payments only” restriction of the UOB Preferred Platinum Visa."
   ],
   "metadata": {
    "collapsed": false
   }
  },
  {
   "cell_type": "code",
   "execution_count": 15,
   "outputs": [],
   "source": [
    "# Higher temperature for opinions\n",
    "\n",
    "chain = VectorDBQA.from_chain_type(llm=OpenAI(temperature=0.5, openai_api_key=os.getenv('OPENAI_KEY')), chain_type=\"stuff\", vectorstore=weaviate)\n"
   ],
   "metadata": {
    "collapsed": false
   }
  },
  {
   "cell_type": "code",
   "execution_count": 16,
   "outputs": [
    {
     "data": {
      "text/plain": "' The best $120K credit card in Singapore depends on your lifestyle and travel patterns. The Citi Prestige and HSBC Visa Infinite offer unlimited lounge access and airport limo benefits, plus relatively generous travel insurance coverage, making them well-suited to frequent flyers. The DBS Vantage is a good option for miles accumulators, as it has the fewest rewards restrictions of any bank in Singapore.'"
     },
     "execution_count": 16,
     "metadata": {},
     "output_type": "execute_result"
    }
   ],
   "source": [
    "query = \"Which $120K credit card in Singapore is the best?\"\n",
    "chain.run(query)"
   ],
   "metadata": {
    "collapsed": false
   }
  },
  {
   "cell_type": "markdown",
   "source": [
    "Q: Which $120K credit card in Singapore is the best?\n",
    "\n",
    "A: In Singapore, there are several credit cards that offer high credit limits, including those with limits of $120,000. The best credit card for you will depend on your individual spending habits and preferences. Here are some popular options:\n",
    "\n",
    "   *  Citi Prestige Card: This card offers a high credit limit of $120,000, as well as a wide range of benefits and rewards, including travel insurance, airport lounge access, and complimentary hotel nights\n",
    "   *  UOB Visa Infinite: This card offers a high credit limit of $120,000. as well as a wide range of benefits and rewards, including travel insurance, airport lounge access, and complimentary hotel nights.\n",
    "   *  DBS Insignia Visa Infinite Card: This card offers a high credit limit of $120,000, as well as a wide range of benefits and rewards, including travel insurance, airport lounge access, and complimentary hotel nights.\n",
    "   *  Standard Chartered Visa Infinite: This card offers a high credit limit of $120,000, as well as a wide range of benefits and rewards, including travel insurance. airport lounge access, and complimentary hotel nights.\n",
    "\n",
    "These credit cards have high annual fees, and also high interest rates, and they may have different rewards and benefits, it is important to compare the terms and conditions of each card, including the interest rate, annual fee, rewards, and benefits, before applying to select the one that best fits your needs.\n",
    "\n",
    "First of all, credit to ChatGPT for being able to understand the concept of a $120K credit card. I didn’t say “credit card with a $120,000 income requirement”, but it was still able to select credit cards that fall into this segment- even two which technically have income requirements of S$150,000 (UOB Visa Infinite, SC Visa Infinite), but are still considered part of the $120K gang! It did mix up the DBS Insignia (S$500,000 income requirement) with the DBS Vantage, however.\n",
    "\n",
    "That said, ChatGPT confuses the concepts of credit limit and income requirement, and the analysis of benefits are rudimentary at best. All four cards have the same boilerplate “wide range of benefits and rewards, including travel insurance, airport lounge access, and complimentary hotel nights”."
   ],
   "metadata": {
    "collapsed": false
   }
  },
  {
   "cell_type": "code",
   "execution_count": 17,
   "outputs": [
    {
     "data": {
      "text/plain": "' The HSBC Revolution card is a good option for groceries as it earns 4 mpd with a maximum spend of S$1,000 per calendar month.'"
     },
     "execution_count": 17,
     "metadata": {},
     "output_type": "execute_result"
    }
   ],
   "source": [
    "query = \"What is the best miles credit card for groceries in Singapore?\"\n",
    "chain.run(query)"
   ],
   "metadata": {
    "collapsed": false
   }
  },
  {
   "cell_type": "markdown",
   "source": [
    "Q: What is the best miles credit card for groceries in Singapore?\n",
    "A: There are several credit cards in Singapore that offer rewards or miles for grocery purchases, but the best one for you will depend on your individual spending habits and preferences. Some popular options include:\n",
    "\n",
    "   *  Citi PremierMiles Visa Card: This card offers up to 2 miles per S$1 spent on everyday grocery purchases at supermarkets, and 10,000 miles as welcome bonus\n",
    "   *   UOB PRVI Miles Visa Card: This card offers up to 3.3 miles per S$1 spent on online grocery shopping and overseas online shopping, and 8,000 miles as welcome bonus\n",
    "   *  OCBC 90°N Card: This card offers up to 3 miles per S$1 spent on online grocery and food delivery, and 6,000 miles as welcome bonus\n",
    "\n",
    "It is always recommended to compare the benefits, rewards, fees and other features of credit card before applying.\n",
    "\n",
    "-ChatGPT\n",
    "\n",
    "ChatGPT completely tanked this answer. None of the above is in any way accurate, and I can’t even think of limited-time promotions where the above was true, making me wonder where it sourced this information from.\n",
    "\n",
    "As I’m sure you know, the HSBC Revolution or UOB Lady’s Card (with family set as the 10X category) are where you should turn for this."
   ],
   "metadata": {
    "collapsed": false
   }
  },
  {
   "cell_type": "code",
   "execution_count": 18,
   "outputs": [
    {
     "data": {
      "text/plain": "' The best miles credit card for petrol in Singapore is UOB Visa Signature or UOB Preferred Platinum Visa.'"
     },
     "execution_count": 18,
     "metadata": {},
     "output_type": "execute_result"
    }
   ],
   "source": [
    "query = \"What is the best miles credit card for petrol in Singapore?\"\n",
    "chain.run(query)"
   ],
   "metadata": {
    "collapsed": false
   }
  },
  {
   "cell_type": "markdown",
   "source": [
    "Q: What is the best miles credit card for petrol in Singapore?\n",
    "\n",
    "A: There are several credit cards in Singapore that offer rewards or miles for petrol purchases, but the best one for you will depend on your individual spending habits and preferences. Some popular options include:\n",
    "\n",
    "   * Citi Cash Back Card: This card offers 8% cashback on petrol spend with a cap of $25 per month\n",
    "   * UOB One Card: This card offers 8% rebate on petrol spend at Esso and Shell stations, with a cap of $70 per statement cycle\n",
    "   * Standard Chartered Unlimited Cashback Card: This card offers 5% cashback on all purchases, including petrol\n",
    "   * OCBC 365 Credit Card: This card offers 6% cashback on grocery and petrol spend with a cap of $80 per statement cycle.\n",
    "\n",
    "It is always recommended to compare the benefits, rewards, fees and other features of credit card before applying.\n",
    "\n",
    "-ChatGPT\n",
    "\n",
    "Where the heck did this answer come from? Leaving aside the fact it offered me four cashback options when I asked for miles, the cashback options it presents aren’t even accurate.\n",
    "\n",
    "The Standard Chartered Unlimited Cashback Card (now known as the Simply Cash Card, fyi) offers a flat 1.5% cashback on all spend, the OCBC 365 Credit Card earns 5% cashback on petrol, and the UOB One gets additional rebates at Shell and SPC, not Esso."
   ],
   "metadata": {
    "collapsed": false
   }
  },
  {
   "cell_type": "code",
   "execution_count": 19,
   "outputs": [
    {
     "data": {
      "text/plain": "' The best miles credit card for insurance in Singapore is the Maybank Visa Infinite or Maybank Horizon Visa Signature, which earns 0.29-0.6 mpd on insurance transactions.'"
     },
     "execution_count": 19,
     "metadata": {},
     "output_type": "execute_result"
    }
   ],
   "source": [
    "query = \"What is the best miles credit card for insurance in Singapore?\"\n",
    "chain.run(query)"
   ],
   "metadata": {
    "collapsed": false
   }
  },
  {
   "cell_type": "markdown",
   "source": [
    "Q: What is the best miles credit card for insurance in Singapore?\n",
    "\n",
    "A: There are several miles credit cards in Singapore that offer rewards for insurance premium payments, but the best one for you may depend on your specific needs and spending habits. Some popular options include:\n",
    "\n",
    "   * Citi PremierMiles Visa Card: This card offers 1.2 miles for every $1 spent on insurance premium payments, and 2 miles for every $1 spent on air tickets, hotels, and other travel expenses\n",
    "   * American Express KrisFlyer Ascend Credit Card: This card offers 1.2 miles for every $1 spent on insurance premium payments, and 1.5 miles for every $1 spent on online travel bookings\n",
    "   * UOB PRVI Miles Visa Card: This card offers 1.4 miles for every $1 spent on insurance premium payments, and 2 miles for every $1 spent on air tickets booked through the UOB Travel portal\n",
    "\n",
    "It’s important to note that these are just a few examples and there are many other credit card options in the market. It is best to compare the benefits and rewards of the different cards and choose the one that best aligns with your spending habits and travel preferences.\n",
    "\n",
    "-ChatGPT\n",
    "\n",
    "The only one here that’s remotely correct is the AMEX KrisFlyer Ascend, and even then, only on insurance products purchased through American Express authorised channels. Everything else is flat out wrong."
   ],
   "metadata": {
    "collapsed": false
   }
  },
  {
   "cell_type": "code",
   "execution_count": 20,
   "outputs": [
    {
     "data": {
      "text/plain": "' The best redemption sweet spots in the Singapore Airlines KrisFlyer programme include short-haul advance upgrades, premium economy advance upgrades, 1,500 KrisPay miles, 25% bonus KrisFlyer miles, 50% bonus KrisFlyer miles, 5,000 KrisFlyer miles redemption discount, double KrisFlyer miles, 1,000 Elite miles, and KrisFlyer Experiences.'"
     },
     "execution_count": 20,
     "metadata": {},
     "output_type": "execute_result"
    }
   ],
   "source": [
    "query = \"What are the best redemption sweet spots in the Singapore Airlines KrisFlyer programme?\"\n",
    "chain.run(query)"
   ],
   "metadata": {
    "collapsed": false
   }
  },
  {
   "cell_type": "markdown",
   "source": [
    "Q: What are the best redemption sweet spots in the Singapore Airlines KrisFlyer programme?\n",
    "A: The Singapore Airlines KrisFlyer program is a frequent flyer program that allows members to earn miles for flights with Singapore Airlines, SilkAir, and Star Alliance partners. These miles can be redeemed for award flights, upgrades, and other travel-related items.\n",
    "\n",
    "Some sweet spots in the KrisFlyer program for award redemptions include:\n",
    "\n",
    "   * Short-haul flights within Southeast Asia: These flights can be booked for as few as 7,500 miles one-way in economy class.\n",
    "\n",
    "   * Flights to Japan, South Korea, and Australia: These flights can be booked for 20,000-25,000 miles one-way in economy class.\n",
    "\n",
    "   * Flights to the US: These flights can be booked for 35,000-45,000 miles one-way in economy class.\n",
    "\n",
    "   * Flights to Europe: These flights can be booked for 45,000-57,500 miles one-way in economy class.\n",
    "\n",
    "   * Upgrade to Business Class: KrisFlyer members can also use their miles to upgrade from economy to business class on Singapore Airlines and SilkAir flights. The miles required for an upgrade varies depending on the route, but it can be a good value.\n",
    "\n",
    "It’s worth noting that award availability and the cost in miles can vary depending on the route, time of year, and booking window, so it’s always best to check the availability and costs before redeeming your miles.\n",
    "\n",
    "Some of the information here is out of date- SilkAir no longer exists, the cheapest one-way Economy awards through KrisFlyer now start from 8,500 miles ever since the July 2022 devaluation, and the other mileage figures it quotes are off by a few thousand miles. I also disagree that buying an Economy Class ticket and using miles to upgrade to Business Class is good value, unless someone else is paying for the ticket.\n",
    "\n",
    "But in a broader sense, is ChatGPT correct to say that Southeast Asia, Japan, Australia, the USA and Europe are sweet spots for KrisFlyer?\n",
    "\n",
    "That’s probably a bit optimistic, since no programme has that many sweet spots.\n",
    "\n",
    "   * For short-haul trips within Southeast Asia, I’d go with British Airways Executive Club and their good value short-haul awards. KrisFlyer isn’t terrible, especially if you can find a destination during Spontaneous Escapes, but it wouldn’t necessarily be the first thing that comes to mind\n",
    "   * For flights to Japan, I’d go with Alaska Mileage Plan and their Japan Airlines awards at 25,000 miles in Business Class (still good value, for now!)\n",
    "   * For flights to Europe, I’d go with Turkish Miles&Smiles, since Singapore to Europe is just 45,000 miles in Business Class. I know it’s hard to find award space, and I know the fuel surcharges are high, but it’s still less than half the miles KrisFlyer wants\n",
    "   * For flights to the USA, I’d go with Alaska Mileage Plan and their Cathay Pacific awards at 50,000 miles in Business Class\n",
    "\n",
    "If anything, I was hoping ChatGPT would pick up the Singapore to Middle East/Africa sweet spot, since 56,500 miles for a one-way Business Class ticket from Singapore to Cape Town (featuring almost 14 hours of flight time) is probably one of KrisFlyer’s best redemptions."
   ],
   "metadata": {
    "collapsed": false
   }
  },
  {
   "cell_type": "code",
   "execution_count": null,
   "outputs": [],
   "source": [],
   "metadata": {
    "collapsed": false
   }
  }
 ],
 "metadata": {
  "kernelspec": {
   "display_name": "Python 3",
   "language": "python",
   "name": "python3"
  },
  "language_info": {
   "codemirror_mode": {
    "name": "ipython",
    "version": 2
   },
   "file_extension": ".py",
   "mimetype": "text/x-python",
   "name": "python",
   "nbconvert_exporter": "python",
   "pygments_lexer": "ipython2",
   "version": "2.7.6"
  }
 },
 "nbformat": 4,
 "nbformat_minor": 0
}
