{
 "cells": [
  {
   "cell_type": "code",
   "execution_count": null,
   "metadata": {
    "collapsed": true
   },
   "outputs": [],
   "source": []
  },
  {
   "cell_type": "markdown",
   "source": [
    "# Milerobo!\n",
    "\n",
    "This notebook demonstrates how to perform Question and Answering over sources.\n",
    "\n",
    "Once you have scraped enough articles and created a vector store, run the QA on questions and compare ChatGPT's response and your own, while reading what a human expert thinks of ChatGPT.\n",
    "\n",
    "Source for ChatGPT responses and human expert evaluation: [milelion.com](https://milelion.com/2023/02/11/can-chatgpt-handle-miles-and-points-questions/)\n",
    "\n",
    "_This notebook and the code in the repository is a toy and is for my education and demonstration purposes only. If you run the code, you are solely liable for running the code and its consequences. The answers provided by the model is provided on an \"AS IS\" basis only._\n",
    "\n",
    "In order to use this notebook, you need to\n",
    "* set your OpenAI key and other variables as an environment variable.\n",
    "* Run the scraping code and save it in weaviate, a vector db.\n"
   ],
   "metadata": {
    "collapsed": false
   }
  },
  {
   "cell_type": "code",
   "execution_count": 1,
   "outputs": [],
   "source": [
    "# Load environment values\n",
    "%load_ext dotenv\n",
    "%dotenv"
   ],
   "metadata": {
    "collapsed": false
   }
  },
  {
   "cell_type": "code",
   "execution_count": 2,
   "outputs": [],
   "source": [
    "from langchain import VectorDBQA\n",
    "# Load vector store\n",
    "import os\n",
    "import weaviate\n",
    "\n",
    "resource_owner_config = weaviate.AuthClientPassword(\n",
    "    username=os.getenv('WEAVIATE_USER'),\n",
    "    password=os.getenv('WEAVIATE_PASSWORD'),\n",
    ")\n",
    "\n",
    "client = weaviate.Client(\n",
    "    os.getenv('WEAVIATE_URL'),\n",
    "    auth_client_secret=resource_owner_config,\n",
    "    additional_headers={\n",
    "        \"X-OpenAI-Api-Key\": os.getenv('OPENAI_KEY')\n",
    "    }\n",
    ")\n",
    "\n",
    "from langchain.vectorstores import Weaviate\n",
    "weaviate = Weaviate(client, \"Article\", \"content\")\n",
    "\n",
    "from langchain.llms import OpenAI\n",
    "\n",
    "chain = VectorDBQA.from_chain_type(llm=OpenAI(temperature=0, openai_api_key=os.getenv('OPENAI_KEY')), chain_type=\"stuff\", vectorstore=weaviate)\n"
   ],
   "metadata": {
    "collapsed": false
   }
  },
  {
   "cell_type": "code",
   "execution_count": 3,
   "outputs": [
    {
     "data": {
      "text/plain": "' DBS pools points earned on different cards with a given bank and can be combined and redeemed at one go. Citibank does not pool points.'"
     },
     "execution_count": 3,
     "metadata": {},
     "output_type": "execute_result"
    }
   ],
   "source": [
    "query = \"Which Singapore banks pool credit card points?\"\n",
    "chain.run(query)"
   ],
   "metadata": {
    "collapsed": false
   }
  },
  {
   "cell_type": "markdown",
   "source": [
    "**Compare ChatGPT**\n",
    "Q: Which Singapore banks pool credit card points?\n",
    "A: In Singapore, several banks offer credit card points that can be pooled or transferred to other credit card accounts. Some of the banks that offer this service include:\n",
    "\n",
    "    CitiBank\n",
    "    DBS Bank\n",
    "    OCBC Bank\n",
    "    UOB Bank\n",
    "\n",
    "Customers can usually transfer or pool their credit card points through the bank’s online banking portal or mobile app. It’s worth noting that the process of pooling or transferring points may vary by bank, and some banks may have restrictions on the types of accounts that can participate in point pooling. It’s also important to check if there is any expiry date for the points before pooling or transferring them.\n",
    "\n",
    "**Evaluation**\n",
    "An answer that’s mostly right, but being mostly right is like being a little bit pregnant.\n",
    "\n",
    "Citibank, of course, does not pool points across cards, and if we wanted to be even more technical, we would point out that OCBC has three different types of rewards currencies: OCBC$, Travel$ and VOYAGE Miles. These pool within currency (e.g. Travel$ earned on the OCBC 90° N Visa and Mastercard), but not across currency (e.g. Travel $ earned on the OCBC 90° N Visa and OCBC$ earned on the OCBC Titanium Rewards)"
   ],
   "metadata": {
    "collapsed": false
   }
  },
  {
   "cell_type": "code",
   "execution_count": 4,
   "outputs": [
    {
     "data": {
      "text/plain": "\" The Citi PremierMiles Card, DBS Altitude Card and OCBC 90°N Card have non-expiring miles, but the UNI$ earned on the UOB PRVI Miles Card expire after 2 years. It's always best to check the bank's website or contact the bank's customer service for more information on the credit card's program.\""
     },
     "execution_count": 4,
     "metadata": {},
     "output_type": "execute_result"
    }
   ],
   "source": [
    "query = \"Which Singapore credit cards earn non-expiring miles?\"\n",
    "chain.run(query)"
   ],
   "metadata": {
    "collapsed": false
   }
  },
  {
   "cell_type": "markdown",
   "source": [
    "Q: Which Singapore credit cards earn non-expiring miles?\n",
    "\n",
    "A: In Singapore, some credit cards offer non-expiring miles, meaning that the miles earned through credit card spending do not have an expiration date. Here are some examples of credit cards that offer non-expiring miles:\n",
    "\n",
    "    Citi PremierMiles Visa Card: Miles earned with this card do not expire as long as the card is active.\n",
    "    UOB PRVI Miles Visa Card: Miles earned with this card do not expire as long as the account is in good standing\n",
    "    DBS Altitude Visa Card: Miles earned with this card do not expire as long as the card account is in good standing\n",
    "    OCBC 90°N Card: Miles earned with this card do not expire as long as the account is in good standing.\n",
    "\n",
    "Please note that the terms and conditions of the non-expiring miles program may vary, such as the minimum spend required to earn miles. the transfer ratio of miles to frequent flyer programs, and the expiration date of the card. Its always best to check the bank’s website or contact the bank’s customer service for more information on the credit card’s program.\n",
    "\n",
    "–ChatGPT\n",
    "\n",
    "It’s a bit strange that ChatGPT defaults to mentioning the Visa versions of (1), (2) and (3), when they come in other flavours as well.\n",
    "\n",
    "But anyway, like the previous question, ChatGPT is partially correct. The Citi PremierMiles Card, DBS Altitude Card and OCBC 90°N Card have non-expiring miles, but the UNI$ earned on the UOB PRVI Miles Card expire after 2 years."
   ],
   "metadata": {
    "collapsed": false
   }
  },
  {
   "cell_type": "code",
   "execution_count": 5,
   "outputs": [
    {
     "data": {
      "text/plain": "' In Singapore, banks have partnerships with different frequent flyer programs and loyalty schemes, which allows customers to transfer their credit card points to these programs. The bank with the most points transfer partners may vary over time, but currently, Citibank has the widest variety of transfer partners with 12 airline and hotel programmes to choose from. DBS and UOB also have a wide variety of transfer partners, with the former having four and the latter having three.'"
     },
     "execution_count": 5,
     "metadata": {},
     "output_type": "execute_result"
    }
   ],
   "source": [
    "query = \" Which Singapore bank has the most points transfer partners?\"\n",
    "chain.run(query)"
   ],
   "metadata": {
    "collapsed": false
   }
  },
  {
   "cell_type": "markdown",
   "source": [
    "Q: Which Singapore bank has the most points transfer partners?\n",
    "\n",
    "A: In Singapore, banks have partnerships with different frequent flyer programs and loyalty schemes, which allows customers to transfer their credit card points to these programs. The bank with the most points transfer partners may vary over time, but currently, DBS and UOB have a wide variety of transfer partners.\n",
    "\n",
    "DBS has partnerships with frequent flyer programs such as Singapore Airlines KrisFlyer, Cathay Pacific Asia Miles, and Thai Airways Royal Orchid Plus, as well as hotel loyalty programs like Marriott Bonvoy, Hilton Honors, and Accor Live Limitless.\n",
    "\n",
    "UOB also has partnerships with frequent flyer programs such as Singapore Airlines KrisFlyer, Cathay Pacific Asia Miles, and Thai Airways Royal Orchid Plus, as well as hotel loyalty programs like Marriott Bonvoy, Hilton Honors, and Accor Live Limitless, plus other loyalty schemes like Grab Rewards.\n",
    "\n",
    "Citibank also has a good number of transfer partners such as Singapore Airlines KrisFlyer, Cathay Pacific Asia Miles, Qantas Frequent Flyer and Thai Airways Royal Orchid Plus.\n",
    "\n",
    "It’s always best to compare the transfer partners of different banks and credit cards to see which program aligns best with your travel and redemption goals. It’s also important to keep in mind that some banks may charge a fee for transferring points and some partners may have different transfer ratios.\n",
    "\n",
    "–ChatGPT\n",
    "\n",
    "DBS and UOB most certainly do not have the most transfer partners in Singapore, with the former having four and the latter having three (AirAsia Rewards was added recently, in case you’re out of the loop). And they both don’t partner with THAI, Marriott Bonvoy, Hilton Honors or Accor Live Limitless.\n",
    "\n",
    "Citibank is a right call, although the absence of American Express and Standard Chartered means this answer isn’t anywhere near adequate."
   ],
   "metadata": {
    "collapsed": false
   }
  },
  {
   "cell_type": "code",
   "execution_count": 6,
   "outputs": [
    {
     "data": {
      "text/plain": "' DBS points can be transferred to Singapore Airlines KrisFlyer miles through the DBS Rewards program. The transfer process is generally simple and can be done online. Here’s an outline of the steps: Log in to your DBS Rewards account online. Under the “Redeem” tab, select the “Transfer to Miles” option. Choose Singapore Airlines KrisFlyer as the transfer partner. Enter the number of DBS points you wish to transfer and confirm the transfer. The KrisFlyer miles will be credited to your KrisFlyer account within 3 working days. It’s worth noting that DBS points can be transferred to KrisFlyer miles at a 1:1 ratio, and there’s no minimum transfer amount but a minimum of 2,000 DBS Points need to be converted and there may be a transfer fee. Make sure to check the terms and conditions of the DBS Rewards program to ensure that you understand any applicable fees, expiration dates or other restrictions.'"
     },
     "execution_count": 6,
     "metadata": {},
     "output_type": "execute_result"
    }
   ],
   "source": [
    "query = \"How do I transfer DBS Points to KrisFlyer?\"\n",
    "chain.run(query)"
   ],
   "metadata": {
    "collapsed": false
   }
  },
  {
   "cell_type": "markdown",
   "source": [
    "Q: How do I transfer DBS Points to KrisFlyer?\n",
    "\n",
    "A: DBS points can be transferred to Singapore Airlines KrisFlyer miles through the DBS Rewards program. The transfer process is generally simple and can be done online. Here’s an outline of the steps:\n",
    "\n",
    "  *  Log in to your DBS Rewards account online.\n",
    "\n",
    "  * Under the “Redeem” tab, select the “Transfer to Miles” option.\n",
    "\n",
    "  *  Choose Singapore Airlines KrisFlyer as the transfer partner.\n",
    "\n",
    "  *  Enter the number of DBS points you wish to transfer and confirm the transfer.\n",
    "\n",
    "  *  The KrisFlyer miles will be credited to your KrisFlyer account within 3 working days.\n",
    "\n",
    "It’s worth noting that DBS points can be transferred to KrisFlyer miles at a 1:1 ratio, and there’s no minimum transfer amount but a minimum of 2,000 DBS Points need to be converted and there may be a transfer fee. Make sure to check the terms and conditions of the DBS Rewards program to ensure that you understand any applicable fees, expiration dates or other restrictions.\n",
    "\n",
    "-ChatGPT\n",
    "\n",
    "The steps are generally correct, if somewhat poorly labelled (you look under the “Travel” tab for the KrisFlyer mile option). That said, I’m surprised ChatGPT gave the correct crediting timeline of three working days, instead of DBS’s official but excessively CYA timeframe of 1-2 weeks.\n",
    "\n",
    "You should probably ignore everything after step (5), since DBS Points transfer to KrisFlyer miles at a 1:2 ratio, with a minimum block of 5,000 DBS Points."
   ],
   "metadata": {
    "collapsed": false
   }
  },
  {
   "cell_type": "code",
   "execution_count": 7,
   "outputs": [
    {
     "name": "stderr",
     "output_type": "stream",
     "text": [
      "Retrying langchain.llms.openai.BaseOpenAI.completion_with_retry.<locals>._completion_with_retry in 4.0 seconds as it raised RateLimitError: The server had an error while processing your request. Sorry about that!.\n"
     ]
    },
    {
     "data": {
      "text/plain": "' To link your KrisFlyer and Shangri-La Circle accounts, you will need to follow these steps:Log in to your KrisFlyer account on the KrisFlyer website.\\n\\nGo to the “Profile” section of the website and select “Partner Programmes” from the list of options.\\n\\nSelect “Shangri-La Circle” from the list of partners.\\n\\nFollow the instructions on the screen to link your accounts.\\n\\nThis may involve entering your Shangri-La Circle account information or logging in to your Shangri-La Circle account through the KrisFlyer website.\\n\\nOnce your accounts are linked, you will be able to earn KrisFlyer miles when you make reservations at Shangri-La Hotels and Resorts.\\n\\nYou will also be able to redeem your miles for stays at Shangri-La Hotels and Resorts.\\n\\nPlease note that the specific steps may vary slightly depending on your location and the version of the website.\\n\\nThe partnership between KrisFlyer and Shangri-La Circle is also subject to change and might no longer exist, it is best to check the official website for the most up-to-date information.'"
     },
     "execution_count": 7,
     "metadata": {},
     "output_type": "execute_result"
    }
   ],
   "source": [
    "query = \"How do I link my KrisFlyer and Shangri-La Circle accounts?\"\n",
    "chain.run(query)"
   ],
   "metadata": {
    "collapsed": false
   }
  },
  {
   "cell_type": "markdown",
   "source": [
    "Q: How do I link my KrisFlyer and Shangri-La Circle accounts?\n",
    "\n",
    "A: To link your KrisFlyer and Shangri-La Circle accounts, you will need to follow these steps:\n",
    "\n",
    "    * Log in to your KrisFlyer account on the KrisFlyer website.\n",
    "\n",
    "    * Go to the “Link Partners” section of the website and select “Shangri-La Circle” from the list of partners.\n",
    "\n",
    "    * Follow the instructions on the screen to link your accounts. This may involve entering your Shangri-La Circle account information or logging in to your Shangri-La Circle account through the KrisFlyer website.\n",
    "\n",
    "    * Once your accounts are linked, you will be able to earn KrisFlyer miles when you make reservations at Shangri-La Hotels and Resorts. You will also be able to redeem your miles for stays at Shangri-La Hotels and Resorts.\n",
    "\n",
    "Please note that the specific steps may vary slightly depending on your location and the version of the website. The partnership between KrisFlyer and Shangri-La Circle is also subject to change and might no longer exist, it is best to check the official website for the most up-to-date information.\n",
    "\n",
    "-ChatGPT\n",
    "\n",
    "The general sequence is correct, although people are likely to get lost at step (2) because there’s no such section on the KrisFlyer website called “link partners”. You’ll need to go to Profile > Partner Programmes to find the option to add Shangri-La."
   ],
   "metadata": {
    "collapsed": false
   }
  },
  {
   "cell_type": "code",
   "execution_count": 8,
   "outputs": [
    {
     "name": "stderr",
     "output_type": "stream",
     "text": [
      "Retrying langchain.llms.openai.BaseOpenAI.completion_with_retry.<locals>._completion_with_retry in 4.0 seconds as it raised RateLimitError: The server had an error while processing your request. Sorry about that!.\n",
      "Retrying langchain.llms.openai.BaseOpenAI.completion_with_retry.<locals>._completion_with_retry in 4.0 seconds as it raised RateLimitError: The server had an error while processing your request. Sorry about that!.\n",
      "Retrying langchain.llms.openai.BaseOpenAI.completion_with_retry.<locals>._completion_with_retry in 4.0 seconds as it raised RateLimitError: The server had an error while processing your request. Sorry about that!.\n",
      "Retrying langchain.llms.openai.BaseOpenAI.completion_with_retry.<locals>._completion_with_retry in 8.0 seconds as it raised RateLimitError: The server had an error while processing your request. Sorry about that!.\n"
     ]
    },
    {
     "data": {
      "text/plain": "' You can find the MCC of a merchant before paying by contacting the merchant directly, checking your credit card statement, searching online, or contacting your credit card issuer. Some credit card issuers may have a database of MCCs for merchants, and they may be able to provide you with the MCC for a specific merchant. You can also use the DBS Payment Controls and the DBS digibot to check MCCs without needing to spend a single cent.'"
     },
     "execution_count": 8,
     "metadata": {},
     "output_type": "execute_result"
    }
   ],
   "source": [
    "query = \"How do I find the MCC of a merchant before paying?\"\n",
    "chain.run(query)"
   ],
   "metadata": {
    "collapsed": false
   }
  },
  {
   "cell_type": "markdown",
   "source": [
    "Q: How do I find the MCC of a merchant before paying?\n",
    "\n",
    "A: Merchant Category Code (MCC) is a four-digit number assigned to a merchant by the credit card issuer. The MCC is used to classify the type of business or service that the merchant provides.\n",
    "\n",
    "There are a few ways to find the MCC of a merchant before paying:\n",
    "\n",
    "   * Contact the merchant directly: You can ask the merchant what their MCC is. Some merchants may have it displayed on their website, or they may be able to provide it to you over the phone or in person\n",
    "   *  Check your credit card statement: If you’ve made a purchase from the merchant before, the MCC should be listed on your credit card statement\n",
    "   * Search online: You can search for the merchant’s name along with the term “MCC” to see if the information is available online\n",
    "   * Contact your credit card issuer: Some credit card issuers may have a database of MCCs for merchants, and they may be able to provide you with the MCC for a specific merchant.\n",
    "\n",
    "Please note that not all merchants have unique MCCs, it may depend on the merchant’s type of business and the way they process the transactions.\n",
    "\n",
    "-ChatGPT\n",
    "\n",
    "Ah, the age old “what’s the MCC” question.\n",
    "\n",
    "It would have been amazing if ChatGPT had managed to suss out my article on how you can check MCCs before spending via DBS cards, but its answers were reasonable enough, if a little commonsensical.\n",
    "\n",
    "ChatGPT even raised a good point about how not all merchants would have a single MCC, e.g. retailers like Amazon and Lazada which sell a range of products. OCBC Titanium Rewards, you may remember, is planning to exclude grocery transactions processed under Amazon from 1 March 2023 while leaving other Amazon transactions untouched."
   ],
   "metadata": {
    "collapsed": false
   }
  },
  {
   "cell_type": "code",
   "execution_count": 9,
   "outputs": [
    {
     "data": {
      "text/plain": "' Both the DBS Woman’s World Card and the Citi Rewards Card have rewards programs that can be beneficial for online spending. However, the best card for you will depend on your specific spending habits and preferences. The DBS Woman’s World Card gives you 6X rewards on online fashion and beauty, 4X rewards on online travel bookings and 2X rewards on online shopping and everyday spends. The Citi Rewards Card gives you 10X rewards points on online shopping and dining. You should consider your spending habits and which category you spend more on, then compare the rewards, benefits, and fees of each card to determine which one will give you the most value. It’s also worth considering any promotions or bonus rewards that the card issuer may be offering.'"
     },
     "execution_count": 9,
     "metadata": {},
     "output_type": "execute_result"
    }
   ],
   "source": [
    "query = \"Should I use the DBS Woman’s World Card or Citi Rewards Card for online spending?\"\n",
    "chain.run(query)"
   ],
   "metadata": {
    "collapsed": false
   }
  },
  {
   "cell_type": "markdown",
   "source": [
    "Q: Should I use the DBS Woman’s World Card or Citi Rewards Card for online spending?\n",
    "\n",
    "A: Both the DBS Woman’s World Card and the Citi Rewards Card have rewards programs that can be beneficial for online spending. However, the best card for you will depend on your specific spending habits and preferences.\n",
    "\n",
    "The DBS Woman’s World Card gives you 6X rewards on online fashion and beauty, 4X rewards on online travel bookings and 2X rewards on online shopping and everyday spends.\n",
    "\n",
    "The Citi Rewards Card gives you 10X rewards points on online shopping and dining.\n",
    "\n",
    "You should consider your spending habits and which category you spend more on, then compare the rewards, benefits, and fees of each card to determine which one will give you the most value. It’s also worth considering any promotions or bonus rewards that the card issuer may be offering.\n",
    "\n",
    "-Chat GPT\n",
    "\n",
    "Swing and a miss for ChatGPT here. It spouts gibberish about the DBS Woman’s World Card’s 2X, 4X and 6X rewards, when it’s as simple as 10X rewards for all online spending that’s not on the general exclusions list.\n",
    "\n",
    "Likewise, it limits the 10X rewards points on the Citi Rewards Card to online shopping and dining, when it should be all online transactions except travel and mobile wallet.\n",
    "\n",
    "I would have loved to see ChatGPT bring in other factors like points expiry, number of transfer partners, and points pooling when comparing these two cards."
   ],
   "metadata": {
    "collapsed": false
   }
  },
  {
   "cell_type": "code",
   "execution_count": 10,
   "outputs": [
    {
     "data": {
      "text/plain": "' It depends on your spending habits. The UOB Preferred Platinum Visa has no minimum spend requirement and is capped at S$1,110 per calendar month, while the UOB Visa Signature has a minimum local spend of S$1,000 per statement month and is capped at S$2,000 per statement month. If you are a small spender, the UOB Preferred Platinum Visa is probably the better option. Bigger spenders will benefit more from the UOB Visa Signature and its higher monthly 4 mpd cap.'"
     },
     "execution_count": 10,
     "metadata": {},
     "output_type": "execute_result"
    }
   ],
   "source": [
    "query = \"Should I use the UOB Preferred Platinum Visa or UOB Visa Signature for contactless spending?\"\n",
    "chain.run(query)"
   ],
   "metadata": {
    "collapsed": false
   }
  },
  {
   "cell_type": "markdown",
   "source": [
    "Q: Should I use the UOB Preferred Platinum Visa or UOB Visa Signature for contactless spending?\n",
    "\n",
    "A: Whether you should use the UOB Preferred Platinum Visa or the UOB Visa Signature for contactless spending will depend on your individual spending habits and preferences. Both cards offer rewards for contactless spending, but they have different earning rates and benefits.\n",
    "\n",
    "The UOB Preferred Platinum Visa offers 5% cashback on contactless transactions, and UOB One card allows customers to pool rewards across multiple UOB credit cards and enjoy higher cashback rate on their spending. It also offers other benefits such as travel insurance, discounts on hotel stays and dining.\n",
    "\n",
    "The UOB Visa Signature offers 3% cashback on contactless transactions, and also offers a wide range of benefits such as travel insurance, discounts on hotel stays and dining, and access to exclusive events.\n",
    "\n",
    "It’s important to compare the earning rates, rewards, benefits and fees of each card before making a decision. It’s also recommended to look at your spending habits and see which card aligns best with your spending patterns and preferences. You can also check the terms and conditions of the card to see which one offers the best value for you.\n",
    "\n",
    "-ChatGPT\n",
    "\n",
    "5% cashback on contactless transactions ? That doesn’t compute, somehow. Even if you took the UNI$ earned on the UOB Preferred Platinum Visa and converted them into cash rebates (don’t!), a 4 mpd earn rate translates into a 2% rebate, not 5%. Ditto the UOB Visa Signature; I have no idea how they got 3% cashback on contactless spend.\n",
    "\n",
    "I was really hoping ChatGPT would be able to highlight important differences like the minimum spend requirement of the UOB Visa Signature, its higher income requirement (not that it has any practical impact, but at least on paper…), its higher 4 mpd cap, or the “mobile payments only” restriction of the UOB Preferred Platinum Visa."
   ],
   "metadata": {
    "collapsed": false
   }
  },
  {
   "cell_type": "code",
   "execution_count": 11,
   "outputs": [
    {
     "data": {
      "text/plain": "' The best credit card for you will depend on your individual spending habits and preferences. Here are some popular options: Citi Prestige Card, UOB Visa Infinite, DBS Insignia Visa Infinite Card, and Standard Chartered Visa Infinite. It is always recommended to compare the benefits, rewards, fees and other features of credit card before applying to select the one that best fits your needs.'"
     },
     "execution_count": 11,
     "metadata": {},
     "output_type": "execute_result"
    }
   ],
   "source": [
    "query = \"Which $120K credit card in Singapore is the best?\"\n",
    "chain.run(query)"
   ],
   "metadata": {
    "collapsed": false
   }
  },
  {
   "cell_type": "markdown",
   "source": [
    "Q: Which $120K credit card in Singapore is the best?\n",
    "\n",
    "A: In Singapore, there are several credit cards that offer high credit limits, including those with limits of $120,000. The best credit card for you will depend on your individual spending habits and preferences. Here are some popular options:\n",
    "\n",
    "   *  Citi Prestige Card: This card offers a high credit limit of $120,000, as well as a wide range of benefits and rewards, including travel insurance, airport lounge access, and complimentary hotel nights\n",
    "   *  UOB Visa Infinite: This card offers a high credit limit of $120,000. as well as a wide range of benefits and rewards, including travel insurance, airport lounge access, and complimentary hotel nights.\n",
    "   *  DBS Insignia Visa Infinite Card: This card offers a high credit limit of $120,000, as well as a wide range of benefits and rewards, including travel insurance, airport lounge access, and complimentary hotel nights.\n",
    "   *  Standard Chartered Visa Infinite: This card offers a high credit limit of $120,000, as well as a wide range of benefits and rewards, including travel insurance. airport lounge access, and complimentary hotel nights.\n",
    "\n",
    "These credit cards have high annual fees, and also high interest rates, and they may have different rewards and benefits, it is important to compare the terms and conditions of each card, including the interest rate, annual fee, rewards, and benefits, before applying to select the one that best fits your needs.\n",
    "\n",
    "First of all, credit to ChatGPT for being able to understand the concept of a $120K credit card. I didn’t say “credit card with a $120,000 income requirement”, but it was still able to select credit cards that fall into this segment- even two which technically have income requirements of S$150,000 (UOB Visa Infinite, SC Visa Infinite), but are still considered part of the $120K gang! It did mix up the DBS Insignia (S$500,000 income requirement) with the DBS Vantage, however.\n",
    "\n",
    "That said, ChatGPT confuses the concepts of credit limit and income requirement, and the analysis of benefits are rudimentary at best. All four cards have the same boilerplate “wide range of benefits and rewards, including travel insurance, airport lounge access, and complimentary hotel nights”."
   ],
   "metadata": {
    "collapsed": false
   }
  },
  {
   "cell_type": "code",
   "execution_count": 12,
   "outputs": [
    {
     "data": {
      "text/plain": "' There are several credit cards in Singapore that offer rewards or miles for grocery purchases, but the best one for you will depend on your individual spending habits and preferences. Some popular options include: Citi PremierMiles Visa Card: This card offers up to 2 miles per S$1 spent on everyday grocery purchases at supermarkets, and 10,000 miles as welcome bonus; UOB PRVI Miles Visa Card: This card offers up to 3.3 miles per S$1 spent on online grocery shopping and overseas online shopping, and 8,000 miles as welcome bonus; OCBC 90°N Card: This card offers up to 3 miles per S$1 spent on online grocery and food delivery, and 6,000 miles as welcome bonus. It is always recommended to compare the benefits, rewards, fees and other features of credit card before applying.'"
     },
     "execution_count": 12,
     "metadata": {},
     "output_type": "execute_result"
    }
   ],
   "source": [
    "query = \"What is the best miles credit card for groceries in Singapore?\"\n",
    "chain.run(query)"
   ],
   "metadata": {
    "collapsed": false
   }
  },
  {
   "cell_type": "markdown",
   "source": [
    "Q: What is the best miles credit card for groceries in Singapore?\n",
    "A: There are several credit cards in Singapore that offer rewards or miles for grocery purchases, but the best one for you will depend on your individual spending habits and preferences. Some popular options include:\n",
    "\n",
    "   *  Citi PremierMiles Visa Card: This card offers up to 2 miles per S$1 spent on everyday grocery purchases at supermarkets, and 10,000 miles as welcome bonus\n",
    "   *   UOB PRVI Miles Visa Card: This card offers up to 3.3 miles per S$1 spent on online grocery shopping and overseas online shopping, and 8,000 miles as welcome bonus\n",
    "   *  OCBC 90°N Card: This card offers up to 3 miles per S$1 spent on online grocery and food delivery, and 6,000 miles as welcome bonus\n",
    "\n",
    "It is always recommended to compare the benefits, rewards, fees and other features of credit card before applying.\n",
    "\n",
    "-ChatGPT\n",
    "\n",
    "ChatGPT completely tanked this answer. None of the above is in any way accurate, and I can’t even think of limited-time promotions where the above was true, making me wonder where it sourced this information from.\n",
    "\n",
    "As I’m sure you know, the HSBC Revolution or UOB Lady’s Card (with family set as the 10X category) are where you should turn for this."
   ],
   "metadata": {
    "collapsed": false
   }
  },
  {
   "cell_type": "code",
   "execution_count": 13,
   "outputs": [
    {
     "data": {
      "text/plain": "' The best miles credit card for petrol in Singapore will depend on your individual spending habits and preferences. Some popular options include the Citi Cash Back Card, UOB One Card, Standard Chartered Unlimited Cashback Card, and OCBC 365 Credit Card. It is always recommended to compare the benefits, rewards, fees and other features of credit card before applying.'"
     },
     "execution_count": 13,
     "metadata": {},
     "output_type": "execute_result"
    }
   ],
   "source": [
    "query = \"What is the best miles credit card for petrol in Singapore?\"\n",
    "chain.run(query)"
   ],
   "metadata": {
    "collapsed": false
   }
  },
  {
   "cell_type": "markdown",
   "source": [
    "Q: What is the best miles credit card for petrol in Singapore?\n",
    "\n",
    "A: There are several credit cards in Singapore that offer rewards or miles for petrol purchases, but the best one for you will depend on your individual spending habits and preferences. Some popular options include:\n",
    "\n",
    "   * Citi Cash Back Card: This card offers 8% cashback on petrol spend with a cap of $25 per month\n",
    "   * UOB One Card: This card offers 8% rebate on petrol spend at Esso and Shell stations, with a cap of $70 per statement cycle\n",
    "   * Standard Chartered Unlimited Cashback Card: This card offers 5% cashback on all purchases, including petrol\n",
    "   * OCBC 365 Credit Card: This card offers 6% cashback on grocery and petrol spend with a cap of $80 per statement cycle.\n",
    "\n",
    "It is always recommended to compare the benefits, rewards, fees and other features of credit card before applying.\n",
    "\n",
    "-ChatGPT\n",
    "\n",
    "Where the heck did this answer come from? Leaving aside the fact it offered me four cashback options when I asked for miles, the cashback options it presents aren’t even accurate.\n",
    "\n",
    "The Standard Chartered Unlimited Cashback Card (now known as the Simply Cash Card, fyi) offers a flat 1.5% cashback on all spend, the OCBC 365 Credit Card earns 5% cashback on petrol, and the UOB One gets additional rebates at Shell and SPC, not Esso."
   ],
   "metadata": {
    "collapsed": false
   }
  },
  {
   "cell_type": "code",
   "execution_count": 14,
   "outputs": [
    {
     "name": "stderr",
     "output_type": "stream",
     "text": [
      "Retrying langchain.llms.openai.BaseOpenAI.completion_with_retry.<locals>._completion_with_retry in 4.0 seconds as it raised RateLimitError: The server had an error while processing your request. Sorry about that!.\n",
      "Retrying langchain.llms.openai.BaseOpenAI.completion_with_retry.<locals>._completion_with_retry in 4.0 seconds as it raised RateLimitError: The server had an error while processing your request. Sorry about that!.\n",
      "Retrying langchain.llms.openai.BaseOpenAI.completion_with_retry.<locals>._completion_with_retry in 4.0 seconds as it raised RateLimitError: The server had an error while processing your request. Sorry about that!.\n"
     ]
    },
    {
     "data": {
      "text/plain": "' Unfortunately, there are no credit cards in Singapore that offer rewards or miles for insurance premium payments. The only way to earn miles on insurance premiums is to pay a fee, or use the KrisFlyer UOB Debit Card.'"
     },
     "execution_count": 14,
     "metadata": {},
     "output_type": "execute_result"
    }
   ],
   "source": [
    "query = \"What is the best miles credit card for insurance in Singapore?\"\n",
    "chain.run(query)"
   ],
   "metadata": {
    "collapsed": false
   }
  },
  {
   "cell_type": "markdown",
   "source": [
    "Q: What is the best miles credit card for insurance in Singapore?\n",
    "\n",
    "A: There are several miles credit cards in Singapore that offer rewards for insurance premium payments, but the best one for you may depend on your specific needs and spending habits. Some popular options include:\n",
    "\n",
    "   * Citi PremierMiles Visa Card: This card offers 1.2 miles for every $1 spent on insurance premium payments, and 2 miles for every $1 spent on air tickets, hotels, and other travel expenses\n",
    "   * American Express KrisFlyer Ascend Credit Card: This card offers 1.2 miles for every $1 spent on insurance premium payments, and 1.5 miles for every $1 spent on online travel bookings\n",
    "   * UOB PRVI Miles Visa Card: This card offers 1.4 miles for every $1 spent on insurance premium payments, and 2 miles for every $1 spent on air tickets booked through the UOB Travel portal\n",
    "\n",
    "It’s important to note that these are just a few examples and there are many other credit card options in the market. It is best to compare the benefits and rewards of the different cards and choose the one that best aligns with your spending habits and travel preferences.\n",
    "\n",
    "-ChatGPT\n",
    "\n",
    "The only one here that’s remotely correct is the AMEX KrisFlyer Ascend, and even then, only on insurance products purchased through American Express authorised channels. Everything else is flat out wrong."
   ],
   "metadata": {
    "collapsed": false
   }
  },
  {
   "cell_type": "code",
   "execution_count": 15,
   "outputs": [
    {
     "data": {
      "text/plain": "' The best redemption sweet spots in the Singapore Airlines KrisFlyer programme are award flights, which can offer up to 5 cents per mile depending on the cabin redeemed. KrisFlyer members can also redeem their miles for Cash + Miles at a fixed value of 0.95 cents per mile, with a minimum redemption of 1,050 miles.'"
     },
     "execution_count": 15,
     "metadata": {},
     "output_type": "execute_result"
    }
   ],
   "source": [
    "query = \"What are the best redemption sweet spots in the Singapore Airlines KrisFlyer programme?\"\n",
    "chain.run(query)"
   ],
   "metadata": {
    "collapsed": false
   }
  },
  {
   "cell_type": "markdown",
   "source": [
    "Q: What are the best redemption sweet spots in the Singapore Airlines KrisFlyer programme?\n",
    "A: The Singapore Airlines KrisFlyer program is a frequent flyer program that allows members to earn miles for flights with Singapore Airlines, SilkAir, and Star Alliance partners. These miles can be redeemed for award flights, upgrades, and other travel-related items.\n",
    "\n",
    "Some sweet spots in the KrisFlyer program for award redemptions include:\n",
    "\n",
    "   * Short-haul flights within Southeast Asia: These flights can be booked for as few as 7,500 miles one-way in economy class.\n",
    "\n",
    "   * Flights to Japan, South Korea, and Australia: These flights can be booked for 20,000-25,000 miles one-way in economy class.\n",
    "\n",
    "   * Flights to the US: These flights can be booked for 35,000-45,000 miles one-way in economy class.\n",
    "\n",
    "   * Flights to Europe: These flights can be booked for 45,000-57,500 miles one-way in economy class.\n",
    "\n",
    "   * Upgrade to Business Class: KrisFlyer members can also use their miles to upgrade from economy to business class on Singapore Airlines and SilkAir flights. The miles required for an upgrade varies depending on the route, but it can be a good value.\n",
    "\n",
    "It’s worth noting that award availability and the cost in miles can vary depending on the route, time of year, and booking window, so it’s always best to check the availability and costs before redeeming your miles.\n",
    "\n",
    "Some of the information here is out of date- SilkAir no longer exists, the cheapest one-way Economy awards through KrisFlyer now start from 8,500 miles ever since the July 2022 devaluation, and the other mileage figures it quotes are off by a few thousand miles. I also disagree that buying an Economy Class ticket and using miles to upgrade to Business Class is good value, unless someone else is paying for the ticket.\n",
    "\n",
    "But in a broader sense, is ChatGPT correct to say that Southeast Asia, Japan, Australia, the USA and Europe are sweet spots for KrisFlyer?\n",
    "\n",
    "That’s probably a bit optimistic, since no programme has that many sweet spots.\n",
    "\n",
    "   * For short-haul trips within Southeast Asia, I’d go with British Airways Executive Club and their good value short-haul awards. KrisFlyer isn’t terrible, especially if you can find a destination during Spontaneous Escapes, but it wouldn’t necessarily be the first thing that comes to mind\n",
    "   * For flights to Japan, I’d go with Alaska Mileage Plan and their Japan Airlines awards at 25,000 miles in Business Class (still good value, for now!)\n",
    "   * For flights to Europe, I’d go with Turkish Miles&Smiles, since Singapore to Europe is just 45,000 miles in Business Class. I know it’s hard to find award space, and I know the fuel surcharges are high, but it’s still less than half the miles KrisFlyer wants\n",
    "   * For flights to the USA, I’d go with Alaska Mileage Plan and their Cathay Pacific awards at 50,000 miles in Business Class\n",
    "\n",
    "If anything, I was hoping ChatGPT would pick up the Singapore to Middle East/Africa sweet spot, since 56,500 miles for a one-way Business Class ticket from Singapore to Cape Town (featuring almost 14 hours of flight time) is probably one of KrisFlyer’s best redemptions."
   ],
   "metadata": {
    "collapsed": false
   }
  },
  {
   "cell_type": "code",
   "execution_count": 15,
   "outputs": [],
   "source": [],
   "metadata": {
    "collapsed": false
   }
  }
 ],
 "metadata": {
  "kernelspec": {
   "display_name": "Python 3",
   "language": "python",
   "name": "python3"
  },
  "language_info": {
   "codemirror_mode": {
    "name": "ipython",
    "version": 2
   },
   "file_extension": ".py",
   "mimetype": "text/x-python",
   "name": "python",
   "nbconvert_exporter": "python",
   "pygments_lexer": "ipython2",
   "version": "2.7.6"
  }
 },
 "nbformat": 4,
 "nbformat_minor": 0
}
